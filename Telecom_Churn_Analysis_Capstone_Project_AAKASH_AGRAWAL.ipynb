{
  "nbformat": 4,
  "nbformat_minor": 0,
  "metadata": {
    "kernelspec": {
      "display_name": "Python 3",
      "language": "python",
      "name": "python3"
    },
    "language_info": {
      "codemirror_mode": {
        "name": "ipython",
        "version": 3
      },
      "file_extension": ".py",
      "mimetype": "text/x-python",
      "name": "python",
      "nbconvert_exporter": "python",
      "pygments_lexer": "ipython3",
      "version": "3.6.6"
    },
    "colab": {
      "name": "Telecom Churn Analysis - Capstone Project AAKASH AGRAWAL.ipynb ",
      "provenance": [],
      "collapsed_sections": [],
      "include_colab_link": true
    }
  },
  "cells": [
    {
      "cell_type": "markdown",
      "metadata": {
        "id": "view-in-github",
        "colab_type": "text"
      },
      "source": [
        "<a href=\"https://colab.research.google.com/github/Aakash0505/CAPSTONE_1/blob/main/Telecom_Churn_Analysis_Capstone_Project_AAKASH_AGRAWAL.ipynb\" target=\"_parent\"><img src=\"https://colab.research.google.com/assets/colab-badge.svg\" alt=\"Open In Colab\"/></a>"
      ]
    },
    {
      "cell_type": "markdown",
      "metadata": {
        "id": "Y06xIdG26kRF"
      },
      "source": [
        "## <b> Orange S.A., formerly France Télécom S.A., is a French multinational telecommunications corporation. The Orange Telecom's Churn Dataset, consists of cleaned customer activity data (features), along with a churn label specifying whether a customer canceled the subscription.\n",
        "\n",
        "## <b> Explore and analyze the data to discover key factors responsible for customer churn and come up with ways/recommendations to ensure customer retention. </b>"
      ]
    },
    {
      "cell_type": "markdown",
      "source": [
        "#Exploratory Data Analysis of churn dataset\n",
        "Exploratory Data Analysis (EDA) is an approach to analyse data. The first and foremost task that the data analysts does is to view the data and tries to make some sense out of it. Later we figure out what questions we want to ask and how to use the available data to get the answers we need.\n",
        "\n",
        "EDA helps us to: 1) Delve into the data set 2)Examine the relationships among the variables 3)Identify any interesting observation 4) Develop an initial idea of possible associations among the predictors and the target variable.\n",
        "\n",
        "The telecom market in the US is saturated and customer growth rates are low. They key focus of market players therefore is on retention and churn control. This project explores the churn dataset to identify the key drivers of churn and grab key insights from the dataset."
      ],
      "metadata": {
        "id": "KXnTWTyX6Ceb"
      }
    },
    {
      "cell_type": "markdown",
      "source": [
        "# **`Importing All the neccessary libraries which is useful in our project.`**"
      ],
      "metadata": {
        "id": "liwCOtK0bglT"
      }
    },
    {
      "cell_type": "code",
      "metadata": {
        "id": "dByMsuzT8Tnw"
      },
      "source": [
        "#importing the required libraries\n",
        "import numpy as np \n",
        "import pandas as pd \n",
        "import seaborn as sns \n",
        "import matplotlib.ticker as mtick  \n",
        "import matplotlib.pyplot as plt\n",
        "%matplotlib inline"
      ],
      "execution_count": null,
      "outputs": []
    },
    {
      "cell_type": "code",
      "source": [
        "from google.colab import drive\n",
        "drive.mount('/content/drive')"
      ],
      "metadata": {
        "id": "cTLn_q_KwEYO"
      },
      "execution_count": null,
      "outputs": []
    },
    {
      "cell_type": "markdown",
      "source": [
        "# `Reading the dataset using pandas`"
      ],
      "metadata": {
        "id": "mNbe9UZRUiRu"
      }
    },
    {
      "cell_type": "code",
      "source": [
        "#reading a csv file and creating pandas dataframe\n",
        "data=pd.read_csv(\"/content/drive/MyDrive/Telecom Churn .csv\")"
      ],
      "metadata": {
        "id": "L4_jQgrswXn1"
      },
      "execution_count": null,
      "outputs": []
    },
    {
      "cell_type": "markdown",
      "source": [
        "Checking the dataset which we have loaded.\n",
        " "
      ],
      "metadata": {
        "id": "8Rx7m0AtVVdc"
      }
    },
    {
      "cell_type": "code",
      "source": [
        "#head provides the first 5 rows of dataset\n",
        "data.head()"
      ],
      "metadata": {
        "id": "VjOp-yKWWcAe"
      },
      "execution_count": null,
      "outputs": []
    },
    {
      "cell_type": "code",
      "source": [
        "# tail provides the last 5 rows of the dataset\n",
        "data.tail()"
      ],
      "metadata": {
        "id": "GY0MH04gWhDy"
      },
      "execution_count": null,
      "outputs": []
    },
    {
      "cell_type": "markdown",
      "source": [
        "# **General Overview of the dataset**"
      ],
      "metadata": {
        "id": "SeeQAMFiXc1F"
      }
    },
    {
      "cell_type": "code",
      "source": [
        "#row and column\n",
        "data.shape"
      ],
      "metadata": {
        "id": "jIOGmuJ4XloK"
      },
      "execution_count": null,
      "outputs": []
    },
    {
      "cell_type": "markdown",
      "source": [
        " we have 3333 rows with 20 columns in our dataset "
      ],
      "metadata": {
        "id": "IkQDoOHXX9wj"
      }
    },
    {
      "cell_type": "code",
      "source": [
        "# information about the data\n",
        "data.info()"
      ],
      "metadata": {
        "id": "nosHxkAjwfk0"
      },
      "execution_count": null,
      "outputs": []
    },
    {
      "cell_type": "markdown",
      "source": [
        "# Checking the null values"
      ],
      "metadata": {
        "id": "dtmXVNSQaR-o"
      }
    },
    {
      "cell_type": "code",
      "source": [
        "# checking the sum of null values\n",
        "data.isnull().sum()"
      ],
      "metadata": {
        "id": "s8wzKcj7ZqT9"
      },
      "execution_count": null,
      "outputs": []
    },
    {
      "cell_type": "code",
      "source": [
        "#visualizing the null checking process\n",
        "missing = pd.DataFrame((data.isnull().sum())*100/data.shape[0]).reset_index()\n",
        "plt.figure(figsize=(16,5))\n",
        "ax = sns.pointplot('index',0,data=missing)\n",
        "plt.xticks(rotation =90,fontsize =7)\n",
        "plt.title(\"Percentage of Missing values\")\n",
        "plt.ylabel(\"PERCENTAGE\")\n",
        "plt.show()"
      ],
      "metadata": {
        "id": "stj6B3wTVkRl"
      },
      "execution_count": null,
      "outputs": []
    },
    {
      "cell_type": "markdown",
      "source": [
        "since there are no null values in any of the columns of our data. \n",
        "we don't have to do any data cleaning. "
      ],
      "metadata": {
        "id": "7QQzU8H6TEjT"
      }
    },
    {
      "cell_type": "markdown",
      "source": [
        "If there exists a null/missing value in the dataset then we can replace the missing value with mean of the attribute using the following command:"
      ],
      "metadata": {
        "id": "Y3_J8eI_bNmt"
      }
    },
    {
      "cell_type": "code",
      "source": [
        "\"\"\"data_null # Dataframe\n",
        "data_null.mean() # mean of the dataframe\n",
        "data_null.fillna(data_null.mean()) # filling the null values with mean values with the mean of the dataframe\"\"\""
      ],
      "metadata": {
        "id": "fTxA248mbRtx"
      },
      "execution_count": null,
      "outputs": []
    },
    {
      "cell_type": "markdown",
      "source": [
        "# **`Statistical summary of our dataset`**"
      ],
      "metadata": {
        "id": "s9eaFtIarnes"
      }
    },
    {
      "cell_type": "code",
      "source": [
        "#Descriptive Analysis of thr data\n",
        "data.describe().transpose()"
      ],
      "metadata": {
        "id": "qZT8G4cYyohI"
      },
      "execution_count": null,
      "outputs": []
    },
    {
      "cell_type": "markdown",
      "source": [
        "# some important points after descriptive analysis"
      ],
      "metadata": {
        "id": "rkoZRqW-SxQW"
      }
    },
    {
      "cell_type": "markdown",
      "source": [
        "\n",
        "\n",
        "*   mean account_lenght of data is 101 and 25% having more than 127\n",
        "*   mean of customer service calls is very less i.e. 1\n",
        "*   on comparing the day,even and night call we can say that the charges at the day are high and eve are medium and night call charges are very low\n",
        "* international call charges are very high as compared to day,eve and night.\n",
        "\n",
        "\n",
        "\n",
        "\n",
        "\n"
      ],
      "metadata": {
        "id": "rYFpvrMRNcus"
      }
    },
    {
      "cell_type": "code",
      "source": [
        "# check the datatypes of columns\n",
        "data.dtypes"
      ],
      "metadata": {
        "id": "46HUlD7wMCDL"
      },
      "execution_count": null,
      "outputs": []
    },
    {
      "cell_type": "markdown",
      "source": [
        "# **`Plotting the graph to represent the no. of customer churned`**"
      ],
      "metadata": {
        "id": "v23cdka4kSL6"
      }
    },
    {
      "cell_type": "code",
      "source": [
        "# histogram representing the no. of people churned\n",
        "data['Churn'].value_counts().plot(kind='barh', figsize=(8, 6))\n",
        "plt.xlabel(\"Count\", labelpad=14)\n",
        "plt.ylabel(\"Target Variable\", labelpad=14)\n",
        "plt.title(\"Count of TARGET Variable per category\", y=1.02)"
      ],
      "metadata": {
        "id": "Pc_qgsxmTy88"
      },
      "execution_count": null,
      "outputs": []
    },
    {
      "cell_type": "markdown",
      "source": [
        "let's see the percentage of our target variable\n"
      ],
      "metadata": {
        "id": "2g0jx9_LUloS"
      }
    },
    {
      "cell_type": "code",
      "source": [
        "# in form of percentage\n",
        "100*data['Churn'].value_counts()/len(data['Churn'])"
      ],
      "metadata": {
        "id": "nGyw0LJuUFFU"
      },
      "execution_count": null,
      "outputs": []
    },
    {
      "cell_type": "markdown",
      "source": [
        "14.49% of costumer churned"
      ],
      "metadata": {
        "id": "1Puyzl5rmtds"
      }
    },
    {
      "cell_type": "markdown",
      "source": [
        "Let’s see the value count of our target variable"
      ],
      "metadata": {
        "id": "NFmbRJMHUe5x"
      }
    },
    {
      "cell_type": "code",
      "source": [
        "data[\"Churn\"].value_counts()"
      ],
      "metadata": {
        "id": "GwsMOD5FUf4u"
      },
      "execution_count": null,
      "outputs": []
    },
    {
      "cell_type": "code",
      "source": [
        "# Descriptive Analysis of object and boolean type data\n",
        "data.describe(include=['object', 'bool'])"
      ],
      "metadata": {
        "id": "AfORD0sGamXr"
      },
      "execution_count": null,
      "outputs": []
    },
    {
      "cell_type": "markdown",
      "source": [
        "Descriptitve analaysis of non numeric values shows us the unique value, top value and it's frequency."
      ],
      "metadata": {
        "id": "eqHYql57oRoE"
      }
    },
    {
      "cell_type": "markdown",
      "source": [
        "# **`checking the correlation between the variables`**\n"
      ],
      "metadata": {
        "id": "9g9sDoucpGJ2"
      }
    },
    {
      "cell_type": "code",
      "source": [
        "# Correlation Plot \n",
        "corr=data.corr()\n",
        "corr.style.background_gradient().set_precision(1)"
      ],
      "metadata": {
        "id": "pQdmwKvOlsSp"
      },
      "execution_count": null,
      "outputs": []
    },
    {
      "cell_type": "markdown",
      "source": [
        "It's quite evident from the graph that there exists a perfect linear relationship between between Mins and its corresponding Charge."
      ],
      "metadata": {
        "id": "ami_k82ro-fe"
      }
    },
    {
      "cell_type": "markdown",
      "source": [
        "# **`Now we are moving on to Visualization part,where we will compare the different attributes and understand the problem of churning`**"
      ],
      "metadata": {
        "id": "7HtkQk1a5sTr"
      }
    },
    {
      "cell_type": "code",
      "source": [
        "# Box Plot for Account Length attribute \n",
        "data.boxplot(column='Account length',by='Churn')"
      ],
      "metadata": {
        "id": "VC0f8IOyntO3"
      },
      "execution_count": null,
      "outputs": []
    },
    {
      "cell_type": "markdown",
      "source": [
        "The mean of Account length is almost similar to for both churn groups."
      ],
      "metadata": {
        "id": "o1ni7twYz575"
      }
    },
    {
      "cell_type": "code",
      "source": [
        "#create dataframe for account length \n",
        "def account_cat(a) :\n",
        "  ac_cat = ''\n",
        "  if a < 30 :\n",
        "    ac_cat = 'new'\n",
        "  elif a < 90 :\n",
        "    ac_cat = 'below 3 months'\n",
        "  else :\n",
        "    ac_cat = 'regular user'\n",
        "  \n",
        "  return ac_cat "
      ],
      "metadata": {
        "id": "B09isi0uJOmU"
      },
      "execution_count": null,
      "outputs": []
    },
    {
      "cell_type": "code",
      "source": [
        "data['account category'] = data['Account length'].apply(lambda x : account_cat(x))\n",
        "data.head()"
      ],
      "metadata": {
        "id": "TSWBVzSjJTU2"
      },
      "execution_count": null,
      "outputs": []
    },
    {
      "cell_type": "code",
      "source": [
        "sns.countplot(x=\"account category\",data=data)"
      ],
      "metadata": {
        "id": "xbDO-t5iKri1"
      },
      "execution_count": null,
      "outputs": []
    },
    {
      "cell_type": "code",
      "source": [
        "sns.countplot(x=\"account category\", hue='Churn', data=data)"
      ],
      "metadata": {
        "id": "iQuIa3wkJiTG"
      },
      "execution_count": null,
      "outputs": []
    },
    {
      "cell_type": "code",
      "source": [
        "# Box Plot for CustServ Calls attribute \n",
        "data.boxplot(column='Customer service calls',by='Churn')"
      ],
      "metadata": {
        "id": "MngauTnuosf4"
      },
      "execution_count": null,
      "outputs": []
    },
    {
      "cell_type": "markdown",
      "source": [
        "There is a considerable amount of difference in mean of Customer service calls for both the churn groups."
      ],
      "metadata": {
        "id": "epnY06aqz8r_"
      }
    },
    {
      "cell_type": "code",
      "source": [
        "# Box Plot for Total day minutes attribute \n",
        "data.boxplot(column='Total day minutes',by='Churn')"
      ],
      "metadata": {
        "id": "doR3eu9KqQto"
      },
      "execution_count": null,
      "outputs": []
    },
    {
      "cell_type": "markdown",
      "source": [
        "The Day Min mean is different for both the churn group."
      ],
      "metadata": {
        "id": "3lc8uqpn2W80"
      }
    },
    {
      "cell_type": "code",
      "source": [
        "# Box Plot for Total eve minutes attribute \n",
        "data.boxplot(column='Total eve minutes',by='Churn')"
      ],
      "metadata": {
        "id": "3qg1aBdzqcWf"
      },
      "execution_count": null,
      "outputs": []
    },
    {
      "cell_type": "markdown",
      "source": [
        "There is a slight amount of difference in mean of Evening mins for both the churn groups. The Box plot also show us the outliers and range of each variable."
      ],
      "metadata": {
        "id": "rsrAYkWt2Z36"
      }
    },
    {
      "cell_type": "code",
      "source": [
        "# Box Plot for Total night minutes  attribute \n",
        "data.boxplot(column='Total night minutes',by='Churn')"
      ],
      "metadata": {
        "id": "tCbioq8UqcvE"
      },
      "execution_count": null,
      "outputs": []
    },
    {
      "cell_type": "markdown",
      "source": [
        "There is a slight amount of difference in mean of night mins for both the churn groups. The Box plot also show us the outliers and range of each variable."
      ],
      "metadata": {
        "id": "r6NMDk2X2ost"
      }
    },
    {
      "cell_type": "markdown",
      "source": [
        "## **`Observing relationship between vmail number and churn.`**"
      ],
      "metadata": {
        "id": "d2z8ZW6R2LXL"
      }
    },
    {
      "cell_type": "code",
      "source": [
        "# Box Plot for Total night minutes  attribute \n",
        "data.boxplot(column='Number vmail messages',by='Churn')"
      ],
      "metadata": {
        "id": "JT7xI74h2K7M"
      },
      "execution_count": null,
      "outputs": []
    },
    {
      "cell_type": "markdown",
      "source": [
        "very few churned customer were using vmail message service"
      ],
      "metadata": {
        "id": "F7I4nhht9B0E"
      }
    },
    {
      "cell_type": "code",
      "source": [
        "sns.countplot(x=\"Voice mail plan\", hue='Churn', data=data)"
      ],
      "metadata": {
        "id": "LZVjCj79SMOu"
      },
      "execution_count": null,
      "outputs": []
    },
    {
      "cell_type": "markdown",
      "source": [
        "# `Graphical representation of each variable`"
      ],
      "metadata": {
        "id": "oCfAvZO17ce-"
      }
    },
    {
      "cell_type": "code",
      "source": [
        "# Histogram for each variable\n",
        "data.hist(figsize=(16, 20), bins=50, xlabelsize=8, ylabelsize=8)"
      ],
      "metadata": {
        "id": "_gT6YjawqzVO"
      },
      "execution_count": null,
      "outputs": []
    },
    {
      "cell_type": "markdown",
      "source": [
        "The charge and min variable have similar distribution as they are perfectly correlated."
      ],
      "metadata": {
        "id": "v5mMDLa724fM"
      }
    },
    {
      "cell_type": "code",
      "source": [
        "# International Plan \n",
        "pd.crosstab(data['Churn'], data[\"International plan\"], margins=True)"
      ],
      "metadata": {
        "id": "KQru2pTcrTjY"
      },
      "execution_count": null,
      "outputs": []
    },
    {
      "cell_type": "markdown",
      "source": [
        "Let’s see how churn rate is related to the International plan variable. We see that, with International Plan, the churn rate is much higher. Clearly, those who have selected the International Plan have a greater chance of leaving the company’s service than do those who do not have the International Plan. Perhaps large and poorly controlled expenses with international calls are very conflict-prone and lead to dissatisfaction among the telecom operator’s customers."
      ],
      "metadata": {
        "id": "TMYpMC6r27Vm"
      }
    },
    {
      "cell_type": "code",
      "source": [
        "# Histogram of International Plan grouped by churn\n",
        "import seaborn as sns\n",
        "plt.rcParams['figure.figsize'] = (8, 6)\n",
        "sns.countplot(x=\"International plan\", hue='Churn', data=data)\n"
      ],
      "metadata": {
        "id": "mTyoH_kKwM3O"
      },
      "execution_count": null,
      "outputs": []
    },
    {
      "cell_type": "code",
      "source": [
        "# Customer Service Calls \n",
        "pd.crosstab(data['Churn'], data[\"Customer service calls\"], margins=True)"
      ],
      "metadata": {
        "id": "vlIq1VNPyFx5"
      },
      "execution_count": null,
      "outputs": []
    },
    {
      "cell_type": "code",
      "source": [
        "# Histogram of State grouped by churn\n",
        "plt.rcParams['figure.figsize'] = (15,8)\n",
        "sns.countplot(x=\"State\", hue='Churn', data=data);"
      ],
      "metadata": {
        "id": "RFO-x8VS4qvA"
      },
      "execution_count": null,
      "outputs": []
    },
    {
      "cell_type": "markdown",
      "source": [
        "The graph clearly says that State is not the reason for customer churn"
      ],
      "metadata": {
        "id": "K0_jGB9Y6jPk"
      }
    },
    {
      "cell_type": "code",
      "source": [
        "# Histogram of Area Code grouped by churn\n",
        "plt.rcParams['figure.figsize'] = (8, 6)\n",
        "sns.countplot(x=\"Area code\", hue='Churn', data=data);"
      ],
      "metadata": {
        "id": "kGe93GW83_6j"
      },
      "execution_count": null,
      "outputs": []
    },
    {
      "cell_type": "markdown",
      "source": [
        "Same in the case of Area code."
      ],
      "metadata": {
        "id": "mClpQFbH794l"
      }
    },
    {
      "cell_type": "code",
      "source": [
        "# Histogram of Customer Serice calls grouped by churn  \n",
        "plt.rcParams['figure.figsize'] = (8, 6)\n",
        "sns.countplot(x=\"Customer service calls\", hue='Churn', data=data);"
      ],
      "metadata": {
        "id": "D4BRwXvyygtk"
      },
      "execution_count": null,
      "outputs": []
    },
    {
      "cell_type": "markdown",
      "source": [
        "The picture clearly states that the churn rate strongly increases starting from 4 calls to the service center. Customers who have called customer service three or fewer times have a markedly lower churn rate than that of customers who have called customer service four or more times."
      ],
      "metadata": {
        "id": "6ok0xG963IpC"
      }
    },
    {
      "cell_type": "code",
      "source": [
        "plt.rcParams['figure.figsize'] = (8, 6)\n",
        "sns.countplot(x=\"Total day minutes\", hue='Churn', data=data);"
      ],
      "metadata": {
        "id": "iTVRfut53xtW"
      },
      "execution_count": null,
      "outputs": []
    },
    {
      "cell_type": "code",
      "source": [
        "plt.rcParams['figure.figsize'] = (8, 6)\n",
        "sns.countplot(x=\"Total eve minutes\", hue='Churn', data=data);"
      ],
      "metadata": {
        "id": "wWamuwPh8Jku"
      },
      "execution_count": null,
      "outputs": []
    },
    {
      "cell_type": "markdown",
      "source": [
        "The customers with high day mins have higher churn rate. Same goes for the customers with high Evening mins."
      ],
      "metadata": {
        "id": "9djHaiY24GAQ"
      }
    },
    {
      "cell_type": "markdown",
      "source": [
        "*** Let us consider some of the insights we have gained into the churn data set through the use of exploratory data analysis.***\n",
        "\n",
        "\n",
        "*   There is no significant relation between account length and churn.\n",
        "*   The total percentage of customers churned is 14.49 %.\n",
        "*   The area code field and/or the state field are anomalous, and can be omitted.\n",
        "*   Customers with the International Plan tend to churn more frequently.\n",
        "*   Customers with four or more customer service calls churn more than four times as often as do the other customers.\n",
        "* Customers with high day minutes and evening minutes tend to churn at a higher rate than do the other customers.\n",
        "There is no obvious association of churn with the variables day calls, evening calls, night calls, international calls, night minutes, international minutes, account length, or voice mail messages.\n",
        "\n"
      ],
      "metadata": {
        "id": "ctS_gZXi4P7N"
      }
    }
  ]
}