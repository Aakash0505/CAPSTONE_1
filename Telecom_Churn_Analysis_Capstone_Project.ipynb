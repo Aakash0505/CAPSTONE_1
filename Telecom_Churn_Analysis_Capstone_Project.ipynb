{
  "nbformat": 4,
  "nbformat_minor": 0,
  "metadata": {
    "kernelspec": {
      "display_name": "Python 3",
      "language": "python",
      "name": "python3"
    },
    "language_info": {
      "codemirror_mode": {
        "name": "ipython",
        "version": 3
      },
      "file_extension": ".py",
      "mimetype": "text/x-python",
      "name": "python",
      "nbconvert_exporter": "python",
      "pygments_lexer": "ipython3",
      "version": "3.6.6"
    },
    "colab": {
      "name": "Telecom Churn Analysis - Capstone Project.ipynb",
      "provenance": [],
      "include_colab_link": true
    }
  },
  "cells": [
    {
      "cell_type": "markdown",
      "metadata": {
        "id": "view-in-github",
        "colab_type": "text"
      },
      "source": [
        "<a href=\"https://colab.research.google.com/github/Aakash0505/CAPSTONE_1/blob/main/Telecom_Churn_Analysis_Capstone_Project.ipynb\" target=\"_parent\"><img src=\"https://colab.research.google.com/assets/colab-badge.svg\" alt=\"Open In Colab\"/></a>"
      ]
    },
    {
      "cell_type": "markdown",
      "metadata": {
        "id": "Y06xIdG26kRF"
      },
      "source": [
        "## <b> Orange S.A., formerly France Télécom S.A., is a French multinational telecommunications corporation. The Orange Telecom's Churn Dataset, consists of cleaned customer activity data (features), along with a churn label specifying whether a customer canceled the subscription.\n",
        "\n",
        "## <b> Explore and analyze the data to discover key factors responsible for customer churn and come up with ways/recommendations to ensure customer retention. </b>"
      ]
    },
    {
      "cell_type": "markdown",
      "source": [
        "#Exploratory Data Analysis of churn dataset\n",
        "Exploratory Data Analysis (EDA) is an approach to analyse data. The first and foremost task that the data analysts does is to view the data and tries to make some sense out of it. Later we figure out what questions we want to ask and how to use the available data to get the answers we need.\n",
        "\n",
        "EDA helps us to: 1) Delve into the data set 2)Examine the relationships among the variables 3)Identify any interesting observation 4) Develop an initial idea of possible associations among the predictors and the target variable.\n",
        "\n",
        "The telecom market in the US is saturated and customer growth rates are low. They key focus of market players therefore is on retention and churn control. This project explores the churn dataset to identify the key drivers of churn and grab key insights from the dataset."
      ],
      "metadata": {
        "id": "KXnTWTyX6Ceb"
      }
    },
    {
      "cell_type": "markdown",
      "source": [
        "Exploratory Data Analysis of churn dataset\n",
        "Exploratory Data Analysis (EDA) is an approach to analyse data. The first and foremost task that the data analysts does is to view the data and tries to make some sense out of it. Later we figure out what questions we want to ask and how to use the available data to get the answers we need.\n",
        "\n",
        "EDA helps us to: 1) Delve into the data set 2)Examine the relationships among the variables 3)Identify any interesting observation 4) Develop an initial idea of possible associations among the predictors and the target variable.\n",
        "\n",
        "The telecom market in the US is saturated and customer growth rates are low. They key focus of market players therefore is on retention and churn control. This project explores the churn dataset to identify the key drivers of churn and grab key insights from the dataset."
      ],
      "metadata": {
        "id": "DTJE6Epu6Ac3"
      }
    },
    {
      "cell_type": "code",
      "metadata": {
        "id": "dByMsuzT8Tnw"
      },
      "source": [
        "import numpy as np \n",
        "import pandas as pd \n",
        "import seaborn as sns \n",
        "import matplotlib.ticker as mtick  \n",
        "import matplotlib.pyplot as plt\n",
        "%matplotlib inline"
      ],
      "execution_count": 23,
      "outputs": []
    },
    {
      "cell_type": "code",
      "source": [
        "from google.colab import drive\n",
        "drive.mount('/content/drive')"
      ],
      "metadata": {
        "colab": {
          "base_uri": "https://localhost:8080/"
        },
        "id": "cTLn_q_KwEYO",
        "outputId": "0daf2f9b-d000-4785-8e93-b1f61f2fc030"
      },
      "execution_count": 24,
      "outputs": [
        {
          "output_type": "stream",
          "name": "stdout",
          "text": [
            "Drive already mounted at /content/drive; to attempt to forcibly remount, call drive.mount(\"/content/drive\", force_remount=True).\n"
          ]
        }
      ]
    },
    {
      "cell_type": "code",
      "source": [
        "data=pd.read_csv(\"/content/drive/MyDrive/Telecom Churn .csv\")"
      ],
      "metadata": {
        "id": "L4_jQgrswXn1"
      },
      "execution_count": 25,
      "outputs": []
    },
    {
      "cell_type": "code",
      "source": [
        "data.info()"
      ],
      "metadata": {
        "colab": {
          "base_uri": "https://localhost:8080/"
        },
        "id": "nosHxkAjwfk0",
        "outputId": "1c889887-22bf-4107-fa51-da0a2ea2d33a"
      },
      "execution_count": 26,
      "outputs": [
        {
          "output_type": "stream",
          "name": "stdout",
          "text": [
            "<class 'pandas.core.frame.DataFrame'>\n",
            "RangeIndex: 3333 entries, 0 to 3332\n",
            "Data columns (total 20 columns):\n",
            " #   Column                  Non-Null Count  Dtype  \n",
            "---  ------                  --------------  -----  \n",
            " 0   State                   3333 non-null   object \n",
            " 1   Account length          3333 non-null   int64  \n",
            " 2   Area code               3333 non-null   int64  \n",
            " 3   International plan      3333 non-null   object \n",
            " 4   Voice mail plan         3333 non-null   object \n",
            " 5   Number vmail messages   3333 non-null   int64  \n",
            " 6   Total day minutes       3333 non-null   float64\n",
            " 7   Total day calls         3333 non-null   int64  \n",
            " 8   Total day charge        3333 non-null   float64\n",
            " 9   Total eve minutes       3333 non-null   float64\n",
            " 10  Total eve calls         3333 non-null   int64  \n",
            " 11  Total eve charge        3333 non-null   float64\n",
            " 12  Total night minutes     3333 non-null   float64\n",
            " 13  Total night calls       3333 non-null   int64  \n",
            " 14  Total night charge      3333 non-null   float64\n",
            " 15  Total intl minutes      3333 non-null   float64\n",
            " 16  Total intl calls        3333 non-null   int64  \n",
            " 17  Total intl charge       3333 non-null   float64\n",
            " 18  Customer service calls  3333 non-null   int64  \n",
            " 19  Churn                   3333 non-null   bool   \n",
            "dtypes: bool(1), float64(8), int64(8), object(3)\n",
            "memory usage: 498.1+ KB\n"
          ]
        }
      ]
    },
    {
      "cell_type": "code",
      "source": [
        "missing = pd.DataFrame((data.isnull().sum())*100/data.shape[0]).reset_index()\n",
        "plt.figure(figsize=(16,5))\n",
        "ax = sns.pointplot('index',0,data=missing)\n",
        "plt.xticks(rotation =90,fontsize =7)\n",
        "plt.title(\"Percentage of Missing values\")\n",
        "plt.ylabel(\"PERCENTAGE\")\n",
        "plt.show()"
      ],
      "metadata": {
        "colab": {
          "base_uri": "https://localhost:8080/",
          "height": 481
        },
        "id": "stj6B3wTVkRl",
        "outputId": "088e671e-4546-40dd-aafc-e6cfa2e260e1"
      },
      "execution_count": 27,
      "outputs": [
        {
          "output_type": "stream",
          "name": "stderr",
          "text": [
            "/usr/local/lib/python3.7/dist-packages/seaborn/_decorators.py:43: FutureWarning: Pass the following variables as keyword args: x, y. From version 0.12, the only valid positional argument will be `data`, and passing other arguments without an explicit keyword will result in an error or misinterpretation.\n",
            "  FutureWarning\n"
          ]
        },
        {
          "output_type": "display_data",
          "data": {
            "text/plain": [
              "<Figure size 1152x360 with 1 Axes>"
            ],
            "image/png": "[encoded data removed]"
          },
          "metadata": {
            "needs_background": "light"
          }
        }
      ]
    },
    {
      "cell_type": "markdown",
      "source": [
        "since there are no null values in any of the columns of our data. \n",
        "we don't have to do any data cleaning. "
      ],
      "metadata": {
        "id": "7QQzU8H6TEjT"
      }
    },
    {
      "cell_type": "markdown",
      "source": [
        "Missing Data – Initial Intuition\n",
        "Here, we don’t have any missing data.\n",
        "\n",
        "General Thumb Rules:\n",
        "\n",
        "When we see a lot of outliers in the dataset then don’t really use mean\n",
        "because if the dataset has lots of outliers then we would be in the situation where the regression analysis will have drastic changes.\n",
        "And if we get features that have a high number of missing values then it’s better to drop them.\n",
        "As there’s no thumb rule on what criteria do we delete the columns with a high number of missing values, still one can delete the columns, if you have more than 30-40% of missing values."
      ],
      "metadata": {
        "id": "y_jlrZZbWBU_"
      }
    },
    {
      "cell_type": "code",
      "source": [
        "data.describe().transpose()"
      ],
      "metadata": {
        "colab": {
          "base_uri": "https://localhost:8080/",
          "height": 551
        },
        "id": "qZT8G4cYyohI",
        "outputId": "c0df0698-0533-4a5f-c72e-9ea4a8355aad"
      },
      "execution_count": 28,
      "outputs": [
        {
          "output_type": "execute_result",
          "data": {
            "text/plain": [
              "                         count        mean        std     min     25%     50%  \\\n",
              "Account length          3333.0  101.064806  39.822106    1.00   74.00  101.00   \n",
              "Area code               3333.0  437.182418  42.371290  408.00  408.00  415.00   \n",
              "Number vmail messages   3333.0    8.099010  13.688365    0.00    0.00    0.00   \n",
              "Total day minutes       3333.0  179.775098  54.467389    0.00  143.70  179.40   \n",
              "Total day calls         3333.0  100.435644  20.069084    0.00   87.00  101.00   \n",
              "Total day charge        3333.0   30.562307   9.259435    0.00   24.43   30.50   \n",
              "Total eve minutes       3333.0  200.980348  50.713844    0.00  166.60  201.40   \n",
              "Total eve calls         3333.0  100.114311  19.922625    0.00   87.00  100.00   \n",
              "Total eve charge        3333.0   17.083540   4.310668    0.00   14.16   17.12   \n",
              "Total night minutes     3333.0  200.872037  50.573847   23.20  167.00  201.20   \n",
              "Total night calls       3333.0  100.107711  19.568609   33.00   87.00  100.00   \n",
              "Total night charge      3333.0    9.039325   2.275873    1.04    7.52    9.05   \n",
              "Total intl minutes      3333.0   10.237294   2.791840    0.00    8.50   10.30   \n",
              "Total intl calls        3333.0    4.479448   2.461214    0.00    3.00    4.00   \n",
              "Total intl charge       3333.0    2.764581   0.753773    0.00    2.30    2.78   \n",
              "Customer service calls  3333.0    1.562856   1.315491    0.00    1.00    1.00   \n",
              "\n",
              "                           75%     max  \n",
              "Account length          127.00  243.00  \n",
              "Area code               510.00  510.00  \n",
              "Number vmail messages    20.00   51.00  \n",
              "Total day minutes       216.40  350.80  \n",
              "Total day calls         114.00  165.00  \n",
              "Total day charge         36.79   59.64  \n",
              "Total eve minutes       235.30  363.70  \n",
              "Total eve calls         114.00  170.00  \n",
              "Total eve charge         20.00   30.91  \n",
              "Total night minutes     235.30  395.00  \n",
              "Total night calls       113.00  175.00  \n",
              "Total night charge       10.59   17.77  \n",
              "Total intl minutes       12.10   20.00  \n",
              "Total intl calls          6.00   20.00  \n",
              "Total intl charge         3.27    5.40  \n",
              "Customer service calls    2.00    9.00  "
            ],
            "text/html": [
              "\n",
              "  <div id=\"df-fec216b6-c7d7-4915-a0c9-de5db4003651\">\n",
              "    <div class=\"colab-df-container\">\n",
              "      <div>\n",
              "<style scoped>\n",
              "    .dataframe tbody tr th:only-of-type {\n",
              "        vertical-align: middle;\n",
              "    }\n",
              "\n",
              "    .dataframe tbody tr th {\n",
              "        vertical-align: top;\n",
              "    }\n",
              "\n",
              "    .dataframe thead th {\n",
              "        text-align: right;\n",
              "    }\n",
              "</style>\n",
              "<table border=\"1\" class=\"dataframe\">\n",
              "  <thead>\n",
              "    <tr style=\"text-align: right;\">\n",
              "      <th></th>\n",
              "      <th>count</th>\n",
              "      <th>mean</th>\n",
              "      <th>std</th>\n",
              "      <th>min</th>\n",
              "      <th>25%</th>\n",
              "      <th>50%</th>\n",
              "      <th>75%</th>\n",
              "      <th>max</th>\n",
              "    </tr>\n",
              "  </thead>\n",
              "  <tbody>\n",
              "    <tr>\n",
              "      <th>Account length</th>\n",
              "      <td>3333.0</td>\n",
              "      <td>101.064806</td>\n",
              "      <td>39.822106</td>\n",
              "      <td>1.00</td>\n",
              "      <td>74.00</td>\n",
              "      <td>101.00</td>\n",
              "      <td>127.00</td>\n",
              "      <td>243.00</td>\n",
              "    </tr>\n",
              "    <tr>\n",
              "      <th>Area code</th>\n",
              "      <td>3333.0</td>\n",
              "      <td>437.182418</td>\n",
              "      <td>42.371290</td>\n",
              "      <td>408.00</td>\n",
              "      <td>408.00</td>\n",
              "      <td>415.00</td>\n",
              "      <td>510.00</td>\n",
              "      <td>510.00</td>\n",
              "    </tr>\n",
              "    <tr>\n",
              "      <th>Number vmail messages</th>\n",
              "      <td>3333.0</td>\n",
              "      <td>8.099010</td>\n",
              "      <td>13.688365</td>\n",
              "      <td>0.00</td>\n",
              "      <td>0.00</td>\n",
              "      <td>0.00</td>\n",
              "      <td>20.00</td>\n",
              "      <td>51.00</td>\n",
              "    </tr>\n",
              "    <tr>\n",
              "      <th>Total day minutes</th>\n",
              "      <td>3333.0</td>\n",
              "      <td>179.775098</td>\n",
              "      <td>54.467389</td>\n",
              "      <td>0.00</td>\n",
              "      <td>143.70</td>\n",
              "      <td>179.40</td>\n",
              "      <td>216.40</td>\n",
              "      <td>350.80</td>\n",
              "    </tr>\n",
              "    <tr>\n",
              "      <th>Total day calls</th>\n",
              "      <td>3333.0</td>\n",
              "      <td>100.435644</td>\n",
              "      <td>20.069084</td>\n",
              "      <td>0.00</td>\n",
              "      <td>87.00</td>\n",
              "      <td>101.00</td>\n",
              "      <td>114.00</td>\n",
              "      <td>165.00</td>\n",
              "    </tr>\n",
              "    <tr>\n",
              "      <th>Total day charge</th>\n",
              "      <td>3333.0</td>\n",
              "      <td>30.562307</td>\n",
              "      <td>9.259435</td>\n",
              "      <td>0.00</td>\n",
              "      <td>24.43</td>\n",
              "      <td>30.50</td>\n",
              "      <td>36.79</td>\n",
              "      <td>59.64</td>\n",
              "    </tr>\n",
              "    <tr>\n",
              "      <th>Total eve minutes</th>\n",
              "      <td>3333.0</td>\n",
              "      <td>200.980348</td>\n",
              "      <td>50.713844</td>\n",
              "      <td>0.00</td>\n",
              "      <td>166.60</td>\n",
              "      <td>201.40</td>\n",
              "      <td>235.30</td>\n",
              "      <td>363.70</td>\n",
              "    </tr>\n",
              "    <tr>\n",
              "      <th>Total eve calls</th>\n",
              "      <td>3333.0</td>\n",
              "      <td>100.114311</td>\n",
              "      <td>19.922625</td>\n",
              "      <td>0.00</td>\n",
              "      <td>87.00</td>\n",
              "      <td>100.00</td>\n",
              "      <td>114.00</td>\n",
              "      <td>170.00</td>\n",
              "    </tr>\n",
              "    <tr>\n",
              "      <th>Total eve charge</th>\n",
              "      <td>3333.0</td>\n",
              "      <td>17.083540</td>\n",
              "      <td>4.310668</td>\n",
              "      <td>0.00</td>\n",
              "      <td>14.16</td>\n",
              "      <td>17.12</td>\n",
              "      <td>20.00</td>\n",
              "      <td>30.91</td>\n",
              "    </tr>\n",
              "    <tr>\n",
              "      <th>Total night minutes</th>\n",
              "      <td>3333.0</td>\n",
              "      <td>200.872037</td>\n",
              "      <td>50.573847</td>\n",
              "      <td>23.20</td>\n",
              "      <td>167.00</td>\n",
              "      <td>201.20</td>\n",
              "      <td>235.30</td>\n",
              "      <td>395.00</td>\n",
              "    </tr>\n",
              "    <tr>\n",
              "      <th>Total night calls</th>\n",
              "      <td>3333.0</td>\n",
              "      <td>100.107711</td>\n",
              "      <td>19.568609</td>\n",
              "      <td>33.00</td>\n",
              "      <td>87.00</td>\n",
              "      <td>100.00</td>\n",
              "      <td>113.00</td>\n",
              "      <td>175.00</td>\n",
              "    </tr>\n",
              "    <tr>\n",
              "      <th>Total night charge</th>\n",
              "      <td>3333.0</td>\n",
              "      <td>9.039325</td>\n",
              "      <td>2.275873</td>\n",
              "      <td>1.04</td>\n",
              "      <td>7.52</td>\n",
              "      <td>9.05</td>\n",
              "      <td>10.59</td>\n",
              "      <td>17.77</td>\n",
              "    </tr>\n",
              "    <tr>\n",
              "      <th>Total intl minutes</th>\n",
              "      <td>3333.0</td>\n",
              "      <td>10.237294</td>\n",
              "      <td>2.791840</td>\n",
              "      <td>0.00</td>\n",
              "      <td>8.50</td>\n",
              "      <td>10.30</td>\n",
              "      <td>12.10</td>\n",
              "      <td>20.00</td>\n",
              "    </tr>\n",
              "    <tr>\n",
              "      <th>Total intl calls</th>\n",
              "      <td>3333.0</td>\n",
              "      <td>4.479448</td>\n",
              "      <td>2.461214</td>\n",
              "      <td>0.00</td>\n",
              "      <td>3.00</td>\n",
              "      <td>4.00</td>\n",
              "      <td>6.00</td>\n",
              "      <td>20.00</td>\n",
              "    </tr>\n",
              "    <tr>\n",
              "      <th>Total intl charge</th>\n",
              "      <td>3333.0</td>\n",
              "      <td>2.764581</td>\n",
              "      <td>0.753773</td>\n",
              "      <td>0.00</td>\n",
              "      <td>2.30</td>\n",
              "      <td>2.78</td>\n",
              "      <td>3.27</td>\n",
              "      <td>5.40</td>\n",
              "    </tr>\n",
              "    <tr>\n",
              "      <th>Customer service calls</th>\n",
              "      <td>3333.0</td>\n",
              "      <td>1.562856</td>\n",
              "      <td>1.315491</td>\n",
              "      <td>0.00</td>\n",
              "      <td>1.00</td>\n",
              "      <td>1.00</td>\n",
              "      <td>2.00</td>\n",
              "      <td>9.00</td>\n",
              "    </tr>\n",
              "  </tbody>\n",
              "</table>\n",
              "</div>\n",
              "      <button class=\"colab-df-convert\" onclick=\"convertToInteractive('df-fec216b6-c7d7-4915-a0c9-de5db4003651')\"\n",
              "              title=\"Convert this dataframe to an interactive table.\"\n",
              "              style=\"display:none;\">\n",
              "        \n",
              "  <svg xmlns=\"http://www.w3.org/2000/svg\" height=\"24px\"viewBox=\"0 0 24 24\"\n",
              "       width=\"24px\">\n",
              "    <path d=\"M0 0h24v24H0V0z\" fill=\"none\"/>\n",
              "    <path d=\"M18.56 5.44l.94 2.06.94-2.06 2.06-.94-2.06-.94-.94-2.06-.94 2.06-2.06.94zm-11 1L8.5 8.5l.94-2.06 2.06-.94-2.06-.94L8.5 2.5l-.94 2.06-2.06.94zm10 10l.94 2.06.94-2.06 2.06-.94-2.06-.94-.94-2.06-.94 2.06-2.06.94z\"/><path d=\"M17.41 7.96l-1.37-1.37c-.4-.4-.92-.59-1.43-.59-.52 0-1.04.2-1.43.59L10.3 9.45l-7.72 7.72c-.78.78-.78 2.05 0 2.83L4 21.41c.39.39.9.59 1.41.59.51 0 1.02-.2 1.41-.59l7.78-7.78 2.81-2.81c.8-.78.8-2.07 0-2.86zM5.41 20L4 18.59l7.72-7.72 1.47 1.35L5.41 20z\"/>\n",
              "  </svg>\n",
              "      </button>\n",
              "      \n",
              "  <style>\n",
              "    .colab-df-container {\n",
              "      display:flex;\n",
              "      flex-wrap:wrap;\n",
              "      gap: 12px;\n",
              "    }\n",
              "\n",
              "    .colab-df-convert {\n",
              "      background-color: #E8F0FE;\n",
              "      border: none;\n",
              "      border-radius: 50%;\n",
              "      cursor: pointer;\n",
              "      display: none;\n",
              "      fill: #1967D2;\n",
              "      height: 32px;\n",
              "      padding: 0 0 0 0;\n",
              "      width: 32px;\n",
              "    }\n",
              "\n",
              "    .colab-df-convert:hover {\n",
              "      background-color: #E2EBFA;\n",
              "      box-shadow: 0px 1px 2px rgba(60, 64, 67, 0.3), 0px 1px 3px 1px rgba(60, 64, 67, 0.15);\n",
              "      fill: #174EA6;\n",
              "    }\n",
              "\n",
              "    [theme=dark] .colab-df-convert {\n",
              "      background-color: #3B4455;\n",
              "      fill: #D2E3FC;\n",
              "    }\n",
              "\n",
              "    [theme=dark] .colab-df-convert:hover {\n",
              "      background-color: #434B5C;\n",
              "      box-shadow: 0px 1px 3px 1px rgba(0, 0, 0, 0.15);\n",
              "      filter: drop-shadow(0px 1px 2px rgba(0, 0, 0, 0.3));\n",
              "      fill: #FFFFFF;\n",
              "    }\n",
              "  </style>\n",
              "\n",
              "      <script>\n",
              "        const buttonEl =\n",
              "          document.querySelector('#df-fec216b6-c7d7-4915-a0c9-de5db4003651 button.colab-df-convert');\n",
              "        buttonEl.style.display =\n",
              "          google.colab.kernel.accessAllowed ? 'block' : 'none';\n",
              "\n",
              "        async function convertToInteractive(key) {\n",
              "          const element = document.querySelector('#df-fec216b6-c7d7-4915-a0c9-de5db4003651');\n",
              "          const dataTable =\n",
              "            await google.colab.kernel.invokeFunction('convertToInteractive',\n",
              "                                                     [key], {});\n",
              "          if (!dataTable) return;\n",
              "\n",
              "          const docLinkHtml = 'Like what you see? Visit the ' +\n",
              "            '<a target=\"_blank\" href=https://colab.research.google.com/notebooks/data_table.ipynb>data table notebook</a>'\n",
              "            + ' to learn more about interactive tables.';\n",
              "          element.innerHTML = '';\n",
              "          dataTable['output_type'] = 'display_data';\n",
              "          await google.colab.output.renderOutput(dataTable, element);\n",
              "          const docLink = document.createElement('div');\n",
              "          docLink.innerHTML = docLinkHtml;\n",
              "          element.appendChild(docLink);\n",
              "        }\n",
              "      </script>\n",
              "    </div>\n",
              "  </div>\n",
              "  "
            ]
          },
          "metadata": {},
          "execution_count": 28
        }
      ]
    },
    {
      "cell_type": "markdown",
      "source": [
        "# important points\n"
      ],
      "metadata": {
        "id": "rkoZRqW-SxQW"
      }
    },
    {
      "cell_type": "markdown",
      "source": [
        "\n",
        "\n",
        "*   mean account_lenght of data is 101 and 25% having more than 127\n",
        "*   mean of customer service calls is very less i.e. 1\n",
        "*   on comparing the day,even and night call we can say that the charges at the day are high and eve are medium and night call charges are very low\n",
        "* international call charges are very high as compared to day,eve and night.\n",
        "\n",
        "\n",
        "\n",
        "\n",
        "\n"
      ],
      "metadata": {
        "id": "rYFpvrMRNcus"
      }
    },
    {
      "cell_type": "code",
      "source": [
        "data.shape"
      ],
      "metadata": {
        "colab": {
          "base_uri": "https://localhost:8080/"
        },
        "id": "0qddS-AQy5jh",
        "outputId": "24d04c25-6c43-40f2-ae3b-117756408c29"
      },
      "execution_count": 29,
      "outputs": [
        {
          "output_type": "execute_result",
          "data": {
            "text/plain": [
              "(3333, 20)"
            ]
          },
          "metadata": {},
          "execution_count": 29
        }
      ]
    },
    {
      "cell_type": "code",
      "source": [
        "data.columns.values"
      ],
      "metadata": {
        "colab": {
          "base_uri": "https://localhost:8080/"
        },
        "id": "jz95t_atLvSe",
        "outputId": "cf3daede-d2d3-4618-b4cb-b76364618fb2"
      },
      "execution_count": 30,
      "outputs": [
        {
          "output_type": "execute_result",
          "data": {
            "text/plain": [
              "array(['State', 'Account length', 'Area code', 'International plan',\n",
              "       'Voice mail plan', 'Number vmail messages', 'Total day minutes',\n",
              "       'Total day calls', 'Total day charge', 'Total eve minutes',\n",
              "       'Total eve calls', 'Total eve charge', 'Total night minutes',\n",
              "       'Total night calls', 'Total night charge', 'Total intl minutes',\n",
              "       'Total intl calls', 'Total intl charge', 'Customer service calls',\n",
              "       'Churn'], dtype=object)"
            ]
          },
          "metadata": {},
          "execution_count": 30
        }
      ]
    },
    {
      "cell_type": "markdown",
      "source": [
        "In column name we space(\" \") so we replace it with underscore(\"_\")\n",
        "because In data cleaning part spaces will show error"
      ],
      "metadata": {
        "id": "x3EIBpfnYF7w"
      }
    },
    {
      "cell_type": "code",
      "source": [
        "data.columns = ['State', 'Account_length', 'Area_code', 'International_plan',\n",
        "       'Voice_mail_plan', 'Number_vmail_messages', 'Total_day_minutes',\n",
        "       'Total_day_calls', 'Total_day_charge', 'Total_eve_minutes',\n",
        "       'Total_eve_calls', 'Total_eve_charge', 'Total_night_minutes',\n",
        "       'Total_night_calls', 'Total_night_charge', 'Total_intl_minutes',\n",
        "       'Total_intl_calls', 'Total_intl_charge', 'Customer_service_calls',\n",
        "       'Churn']"
      ],
      "metadata": {
        "id": "yhZe61OnXj_x"
      },
      "execution_count": 31,
      "outputs": []
    },
    {
      "cell_type": "code",
      "source": [
        "data.dtypes"
      ],
      "metadata": {
        "colab": {
          "base_uri": "https://localhost:8080/"
        },
        "id": "46HUlD7wMCDL",
        "outputId": "d6e1e9d6-1b12-4d38-907d-2db620adf3f1"
      },
      "execution_count": 32,
      "outputs": [
        {
          "output_type": "execute_result",
          "data": {
            "text/plain": [
              "State                      object\n",
              "Account_length              int64\n",
              "Area_code                   int64\n",
              "International_plan         object\n",
              "Voice_mail_plan            object\n",
              "Number_vmail_messages       int64\n",
              "Total_day_minutes         float64\n",
              "Total_day_calls             int64\n",
              "Total_day_charge          float64\n",
              "Total_eve_minutes         float64\n",
              "Total_eve_calls             int64\n",
              "Total_eve_charge          float64\n",
              "Total_night_minutes       float64\n",
              "Total_night_calls           int64\n",
              "Total_night_charge        float64\n",
              "Total_intl_minutes        float64\n",
              "Total_intl_calls            int64\n",
              "Total_intl_charge         float64\n",
              "Customer_service_calls      int64\n",
              "Churn                        bool\n",
              "dtype: object"
            ]
          },
          "metadata": {},
          "execution_count": 32
        }
      ]
    },
    {
      "cell_type": "code",
      "source": [
        "data['Churn'].value_counts().plot(kind='barh', figsize=(8, 6))\n",
        "plt.xlabel(\"Count\", labelpad=14)\n",
        "plt.ylabel(\"Target Variable\", labelpad=14)\n",
        "plt.title(\"Count of TARGET Variable per category\", y=1.02)"
      ],
      "metadata": {
        "colab": {
          "base_uri": "https://localhost:8080/",
          "height": 438
        },
        "id": "Pc_qgsxmTy88",
        "outputId": "01a94e17-3f40-46c8-d002-4a8e0405c129"
      },
      "execution_count": 33,
      "outputs": [
        {
          "output_type": "execute_result",
          "data": {
            "text/plain": [
              "Text(0.5, 1.02, 'Count of TARGET Variable per category')"
            ]
          },
          "metadata": {},
          "execution_count": 33
        },
        {
          "output_type": "display_data",
          "data": {
            "text/plain": [
              "<Figure size 576x432 with 1 Axes>"
            ],
            "image/png": "[encoded data removed]"
          },
          "metadata": {
            "needs_background": "light"
          }
        }
      ]
    },
    {
      "cell_type": "markdown",
      "source": [
        "let's see the percentage of our target variable\n"
      ],
      "metadata": {
        "id": "2g0jx9_LUloS"
      }
    },
    {
      "cell_type": "code",
      "source": [
        "100*data['Churn'].value_counts()/len(data['Churn'])"
      ],
      "metadata": {
        "colab": {
          "base_uri": "https://localhost:8080/"
        },
        "id": "nGyw0LJuUFFU",
        "outputId": "dc2cb611-a375-411c-9bef-b5c3f391072d"
      },
      "execution_count": 34,
      "outputs": [
        {
          "output_type": "execute_result",
          "data": {
            "text/plain": [
              "False    85.508551\n",
              "True     14.491449\n",
              "Name: Churn, dtype: float64"
            ]
          },
          "metadata": {},
          "execution_count": 34
        }
      ]
    },
    {
      "cell_type": "markdown",
      "source": [
        "Let’s see the value count of our target variable"
      ],
      "metadata": {
        "id": "NFmbRJMHUe5x"
      }
    },
    {
      "cell_type": "code",
      "source": [
        "data[\"Churn\"].value_counts()"
      ],
      "metadata": {
        "colab": {
          "base_uri": "https://localhost:8080/"
        },
        "id": "GwsMOD5FUf4u",
        "outputId": "a758d1f2-bfbd-438a-b030-dfe80c3984ef"
      },
      "execution_count": 35,
      "outputs": [
        {
          "output_type": "execute_result",
          "data": {
            "text/plain": [
              "False    2850\n",
              "True      483\n",
              "Name: Churn, dtype: int64"
            ]
          },
          "metadata": {},
          "execution_count": 35
        }
      ]
    },
    {
      "cell_type": "code",
      "source": [
        "data1=data.copy()"
      ],
      "metadata": {
        "id": "MDeURmTHW3MC"
      },
      "execution_count": 36,
      "outputs": []
    },
    {
      "cell_type": "code",
      "source": [
        "data1.Total_day_charge = pd.to_numeric(data1.Total_day_charge, errors='coerce')\n",
        "data1.isnull().sum()"
      ],
      "metadata": {
        "colab": {
          "base_uri": "https://localhost:8080/"
        },
        "id": "WpPasqsVW_Lu",
        "outputId": "1152c8fb-451d-47d7-882f-63e5b85667ed"
      },
      "execution_count": 37,
      "outputs": [
        {
          "output_type": "execute_result",
          "data": {
            "text/plain": [
              "State                     0\n",
              "Account_length            0\n",
              "Area_code                 0\n",
              "International_plan        0\n",
              "Voice_mail_plan           0\n",
              "Number_vmail_messages     0\n",
              "Total_day_minutes         0\n",
              "Total_day_calls           0\n",
              "Total_day_charge          0\n",
              "Total_eve_minutes         0\n",
              "Total_eve_calls           0\n",
              "Total_eve_charge          0\n",
              "Total_night_minutes       0\n",
              "Total_night_calls         0\n",
              "Total_night_charge        0\n",
              "Total_intl_minutes        0\n",
              "Total_intl_calls          0\n",
              "Total_intl_charge         0\n",
              "Customer_service_calls    0\n",
              "Churn                     0\n",
              "dtype: int64"
            ]
          },
          "metadata": {},
          "execution_count": 37
        }
      ]
    },
    {
      "cell_type": "code",
      "source": [
        "# Descriptive Analysis of object and boolean type data\n",
        "data1.describe(include=['object', 'bool'])"
      ],
      "metadata": {
        "colab": {
          "base_uri": "https://localhost:8080/",
          "height": 174
        },
        "id": "AfORD0sGamXr",
        "outputId": "27a6cb23-917c-4f56-e660-af820ce13cd5"
      },
      "execution_count": 39,
      "outputs": [
        {
          "output_type": "execute_result",
          "data": {
            "text/plain": [
              "       State International_plan Voice_mail_plan  Churn\n",
              "count   3333               3333            3333   3333\n",
              "unique    51                  2               2      2\n",
              "top       WV                 No              No  False\n",
              "freq     106               3010            2411   2850"
            ],
            "text/html": [
              "\n",
              "  <div id=\"df-cb8cb12d-2d18-43e5-95fb-588ddcf4170f\">\n",
              "    <div class=\"colab-df-container\">\n",
              "      <div>\n",
              "<style scoped>\n",
              "    .dataframe tbody tr th:only-of-type {\n",
              "        vertical-align: middle;\n",
              "    }\n",
              "\n",
              "    .dataframe tbody tr th {\n",
              "        vertical-align: top;\n",
              "    }\n",
              "\n",
              "    .dataframe thead th {\n",
              "        text-align: right;\n",
              "    }\n",
              "</style>\n",
              "<table border=\"1\" class=\"dataframe\">\n",
              "  <thead>\n",
              "    <tr style=\"text-align: right;\">\n",
              "      <th></th>\n",
              "      <th>State</th>\n",
              "      <th>International_plan</th>\n",
              "      <th>Voice_mail_plan</th>\n",
              "      <th>Churn</th>\n",
              "    </tr>\n",
              "  </thead>\n",
              "  <tbody>\n",
              "    <tr>\n",
              "      <th>count</th>\n",
              "      <td>3333</td>\n",
              "      <td>3333</td>\n",
              "      <td>3333</td>\n",
              "      <td>3333</td>\n",
              "    </tr>\n",
              "    <tr>\n",
              "      <th>unique</th>\n",
              "      <td>51</td>\n",
              "      <td>2</td>\n",
              "      <td>2</td>\n",
              "      <td>2</td>\n",
              "    </tr>\n",
              "    <tr>\n",
              "      <th>top</th>\n",
              "      <td>WV</td>\n",
              "      <td>No</td>\n",
              "      <td>No</td>\n",
              "      <td>False</td>\n",
              "    </tr>\n",
              "    <tr>\n",
              "      <th>freq</th>\n",
              "      <td>106</td>\n",
              "      <td>3010</td>\n",
              "      <td>2411</td>\n",
              "      <td>2850</td>\n",
              "    </tr>\n",
              "  </tbody>\n",
              "</table>\n",
              "</div>\n",
              "      <button class=\"colab-df-convert\" onclick=\"convertToInteractive('df-cb8cb12d-2d18-43e5-95fb-588ddcf4170f')\"\n",
              "              title=\"Convert this dataframe to an interactive table.\"\n",
              "              style=\"display:none;\">\n",
              "        \n",
              "  <svg xmlns=\"http://www.w3.org/2000/svg\" height=\"24px\"viewBox=\"0 0 24 24\"\n",
              "       width=\"24px\">\n",
              "    <path d=\"M0 0h24v24H0V0z\" fill=\"none\"/>\n",
              "    <path d=\"M18.56 5.44l.94 2.06.94-2.06 2.06-.94-2.06-.94-.94-2.06-.94 2.06-2.06.94zm-11 1L8.5 8.5l.94-2.06 2.06-.94-2.06-.94L8.5 2.5l-.94 2.06-2.06.94zm10 10l.94 2.06.94-2.06 2.06-.94-2.06-.94-.94-2.06-.94 2.06-2.06.94z\"/><path d=\"M17.41 7.96l-1.37-1.37c-.4-.4-.92-.59-1.43-.59-.52 0-1.04.2-1.43.59L10.3 9.45l-7.72 7.72c-.78.78-.78 2.05 0 2.83L4 21.41c.39.39.9.59 1.41.59.51 0 1.02-.2 1.41-.59l7.78-7.78 2.81-2.81c.8-.78.8-2.07 0-2.86zM5.41 20L4 18.59l7.72-7.72 1.47 1.35L5.41 20z\"/>\n",
              "  </svg>\n",
              "      </button>\n",
              "      \n",
              "  <style>\n",
              "    .colab-df-container {\n",
              "      display:flex;\n",
              "      flex-wrap:wrap;\n",
              "      gap: 12px;\n",
              "    }\n",
              "\n",
              "    .colab-df-convert {\n",
              "      background-color: #E8F0FE;\n",
              "      border: none;\n",
              "      border-radius: 50%;\n",
              "      cursor: pointer;\n",
              "      display: none;\n",
              "      fill: #1967D2;\n",
              "      height: 32px;\n",
              "      padding: 0 0 0 0;\n",
              "      width: 32px;\n",
              "    }\n",
              "\n",
              "    .colab-df-convert:hover {\n",
              "      background-color: #E2EBFA;\n",
              "      box-shadow: 0px 1px 2px rgba(60, 64, 67, 0.3), 0px 1px 3px 1px rgba(60, 64, 67, 0.15);\n",
              "      fill: #174EA6;\n",
              "    }\n",
              "\n",
              "    [theme=dark] .colab-df-convert {\n",
              "      background-color: #3B4455;\n",
              "      fill: #D2E3FC;\n",
              "    }\n",
              "\n",
              "    [theme=dark] .colab-df-convert:hover {\n",
              "      background-color: #434B5C;\n",
              "      box-shadow: 0px 1px 3px 1px rgba(0, 0, 0, 0.15);\n",
              "      filter: drop-shadow(0px 1px 2px rgba(0, 0, 0, 0.3));\n",
              "      fill: #FFFFFF;\n",
              "    }\n",
              "  </style>\n",
              "\n",
              "      <script>\n",
              "        const buttonEl =\n",
              "          document.querySelector('#df-cb8cb12d-2d18-43e5-95fb-588ddcf4170f button.colab-df-convert');\n",
              "        buttonEl.style.display =\n",
              "          google.colab.kernel.accessAllowed ? 'block' : 'none';\n",
              "\n",
              "        async function convertToInteractive(key) {\n",
              "          const element = document.querySelector('#df-cb8cb12d-2d18-43e5-95fb-588ddcf4170f');\n",
              "          const dataTable =\n",
              "            await google.colab.kernel.invokeFunction('convertToInteractive',\n",
              "                                                     [key], {});\n",
              "          if (!dataTable) return;\n",
              "\n",
              "          const docLinkHtml = 'Like what you see? Visit the ' +\n",
              "            '<a target=\"_blank\" href=https://colab.research.google.com/notebooks/data_table.ipynb>data table notebook</a>'\n",
              "            + ' to learn more about interactive tables.';\n",
              "          element.innerHTML = '';\n",
              "          dataTable['output_type'] = 'display_data';\n",
              "          await google.colab.output.renderOutput(dataTable, element);\n",
              "          const docLink = document.createElement('div');\n",
              "          docLink.innerHTML = docLinkHtml;\n",
              "          element.appendChild(docLink);\n",
              "        }\n",
              "      </script>\n",
              "    </div>\n",
              "  </div>\n",
              "  "
            ]
          },
          "metadata": {},
          "execution_count": 39
        }
      ]
    },
    {
      "cell_type": "code",
      "source": [
        "# Correlation Plot \n",
        "corr=data1.corr()\n",
        "corr.style.background_gradient().set_precision(1)"
      ],
      "metadata": {
        "id": "pQdmwKvOlsSp",
        "outputId": "9498db3f-2f93-45de-b96c-4057ffd015c5",
        "colab": {
          "base_uri": "https://localhost:8080/",
          "height": 637
        }
      },
      "execution_count": 41,
      "outputs": [
        {
          "output_type": "stream",
          "name": "stderr",
          "text": [
            "/usr/local/lib/python3.7/dist-packages/ipykernel_launcher.py:3: FutureWarning: this method is deprecated in favour of `Styler.format(precision=..)`\n",
            "  This is separate from the ipykernel package so we can avoid doing imports until\n"
          ]
        },
        {
          "output_type": "execute_result",
          "data": {
            "text/plain": [
              "<pandas.io.formats.style.Styler at 0x7ff3bdadfc90>"
            ],
            "text/html": [
              "<style type=\"text/css\">\n",
              "#T_bc8ee_row0_col0, #T_bc8ee_row1_col1, #T_bc8ee_row2_col2, #T_bc8ee_row3_col3, #T_bc8ee_row3_col5, #T_bc8ee_row4_col4, #T_bc8ee_row5_col3, #T_bc8ee_row5_col5, #T_bc8ee_row6_col6, #T_bc8ee_row6_col8, #T_bc8ee_row7_col7, #T_bc8ee_row8_col6, #T_bc8ee_row8_col8, #T_bc8ee_row9_col9, #T_bc8ee_row9_col11, #T_bc8ee_row10_col10, #T_bc8ee_row11_col9, #T_bc8ee_row11_col11, #T_bc8ee_row12_col12, #T_bc8ee_row12_col14, #T_bc8ee_row13_col13, #T_bc8ee_row14_col12, #T_bc8ee_row14_col14, #T_bc8ee_row15_col15, #T_bc8ee_row16_col16 {\n",
              "  background-color: #023858;\n",
              "  color: #f1f1f1;\n",
              "}\n",
              "#T_bc8ee_row0_col1, #T_bc8ee_row1_col4, #T_bc8ee_row1_col9, #T_bc8ee_row1_col11, #T_bc8ee_row2_col0, #T_bc8ee_row2_col4, #T_bc8ee_row3_col12, #T_bc8ee_row3_col14, #T_bc8ee_row5_col12, #T_bc8ee_row5_col14, #T_bc8ee_row7_col6, #T_bc8ee_row7_col8, #T_bc8ee_row9_col6, #T_bc8ee_row9_col7, #T_bc8ee_row9_col8, #T_bc8ee_row9_col15, #T_bc8ee_row11_col6, #T_bc8ee_row11_col7, #T_bc8ee_row11_col8, #T_bc8ee_row11_col15, #T_bc8ee_row12_col6, #T_bc8ee_row12_col8, #T_bc8ee_row12_col15, #T_bc8ee_row14_col6, #T_bc8ee_row14_col8, #T_bc8ee_row14_col15, #T_bc8ee_row15_col0, #T_bc8ee_row15_col6, #T_bc8ee_row15_col8, #T_bc8ee_row15_col12, #T_bc8ee_row15_col14 {\n",
              "  background-color: #fef6fa;\n",
              "  color: #000000;\n",
              "}\n",
              "#T_bc8ee_row0_col2, #T_bc8ee_row7_col2 {\n",
              "  background-color: #f4edf6;\n",
              "  color: #000000;\n",
              "}\n",
              "#T_bc8ee_row0_col3, #T_bc8ee_row0_col5, #T_bc8ee_row0_col6, #T_bc8ee_row0_col8, #T_bc8ee_row0_col15, #T_bc8ee_row2_col3, #T_bc8ee_row2_col5, #T_bc8ee_row3_col0, #T_bc8ee_row3_col1, #T_bc8ee_row3_col9, #T_bc8ee_row3_col11, #T_bc8ee_row4_col1, #T_bc8ee_row4_col7, #T_bc8ee_row5_col0, #T_bc8ee_row5_col1, #T_bc8ee_row5_col9, #T_bc8ee_row5_col11, #T_bc8ee_row7_col1, #T_bc8ee_row7_col9, #T_bc8ee_row7_col11, #T_bc8ee_row9_col1, #T_bc8ee_row9_col3, #T_bc8ee_row9_col5, #T_bc8ee_row10_col7, #T_bc8ee_row11_col1, #T_bc8ee_row11_col3, #T_bc8ee_row11_col5, #T_bc8ee_row13_col10, #T_bc8ee_row15_col7 {\n",
              "  background-color: #fdf5fa;\n",
              "  color: #000000;\n",
              "}\n",
              "#T_bc8ee_row0_col4 {\n",
              "  background-color: #f6eff7;\n",
              "  color: #000000;\n",
              "}\n",
              "#T_bc8ee_row0_col7, #T_bc8ee_row0_col14, #T_bc8ee_row3_col4, #T_bc8ee_row3_col6, #T_bc8ee_row3_col8, #T_bc8ee_row5_col4, #T_bc8ee_row5_col6, #T_bc8ee_row5_col8, #T_bc8ee_row7_col3, #T_bc8ee_row7_col5, #T_bc8ee_row9_col10, #T_bc8ee_row10_col6, #T_bc8ee_row10_col8, #T_bc8ee_row11_col10, #T_bc8ee_row13_col7, #T_bc8ee_row16_col0, #T_bc8ee_row16_col1 {\n",
              "  background-color: #fbf3f9;\n",
              "  color: #000000;\n",
              "}\n",
              "#T_bc8ee_row0_col9, #T_bc8ee_row0_col10, #T_bc8ee_row0_col11, #T_bc8ee_row1_col3, #T_bc8ee_row1_col5, #T_bc8ee_row2_col7, #T_bc8ee_row2_col15, #T_bc8ee_row3_col15, #T_bc8ee_row5_col15, #T_bc8ee_row6_col0, #T_bc8ee_row6_col12, #T_bc8ee_row6_col14, #T_bc8ee_row6_col15, #T_bc8ee_row8_col0, #T_bc8ee_row8_col12, #T_bc8ee_row8_col14, #T_bc8ee_row8_col15, #T_bc8ee_row9_col0, #T_bc8ee_row10_col12, #T_bc8ee_row10_col14, #T_bc8ee_row10_col15, #T_bc8ee_row11_col0, #T_bc8ee_row12_col1, #T_bc8ee_row12_col10, #T_bc8ee_row14_col1, #T_bc8ee_row14_col10, #T_bc8ee_row15_col9, #T_bc8ee_row15_col10, #T_bc8ee_row15_col11 {\n",
              "  background-color: #fef6fb;\n",
              "  color: #000000;\n",
              "}\n",
              "#T_bc8ee_row0_col12, #T_bc8ee_row1_col6, #T_bc8ee_row1_col8, #T_bc8ee_row1_col13, #T_bc8ee_row2_col10, #T_bc8ee_row3_col7, #T_bc8ee_row5_col7, #T_bc8ee_row6_col1, #T_bc8ee_row6_col10, #T_bc8ee_row7_col4, #T_bc8ee_row7_col10, #T_bc8ee_row7_col12, #T_bc8ee_row7_col14, #T_bc8ee_row8_col1, #T_bc8ee_row8_col10, #T_bc8ee_row10_col9, #T_bc8ee_row10_col11, #T_bc8ee_row13_col4, #T_bc8ee_row13_col6, #T_bc8ee_row13_col8, #T_bc8ee_row16_col10 {\n",
              "  background-color: #fbf4f9;\n",
              "  color: #000000;\n",
              "}\n",
              "#T_bc8ee_row0_col13, #T_bc8ee_row7_col13, #T_bc8ee_row15_col2 {\n",
              "  background-color: #f5eef6;\n",
              "  color: #000000;\n",
              "}\n",
              "#T_bc8ee_row0_col16, #T_bc8ee_row13_col2 {\n",
              "  background-color: #f1ebf4;\n",
              "  color: #000000;\n",
              "}\n",
              "#T_bc8ee_row1_col0, #T_bc8ee_row1_col7, #T_bc8ee_row1_col12, #T_bc8ee_row1_col14, #T_bc8ee_row2_col16, #T_bc8ee_row4_col6, #T_bc8ee_row4_col8, #T_bc8ee_row4_col10, #T_bc8ee_row4_col15, #T_bc8ee_row6_col4, #T_bc8ee_row6_col7, #T_bc8ee_row6_col9, #T_bc8ee_row6_col11, #T_bc8ee_row8_col4, #T_bc8ee_row8_col7, #T_bc8ee_row8_col9, #T_bc8ee_row8_col11, #T_bc8ee_row9_col12, #T_bc8ee_row9_col14, #T_bc8ee_row10_col0, #T_bc8ee_row10_col4, #T_bc8ee_row11_col12, #T_bc8ee_row11_col14, #T_bc8ee_row12_col3, #T_bc8ee_row12_col5, #T_bc8ee_row12_col9, #T_bc8ee_row12_col11, #T_bc8ee_row13_col1, #T_bc8ee_row13_col9, #T_bc8ee_row13_col11, #T_bc8ee_row13_col15, #T_bc8ee_row14_col3, #T_bc8ee_row14_col5, #T_bc8ee_row14_col9, #T_bc8ee_row14_col11, #T_bc8ee_row15_col3, #T_bc8ee_row15_col4, #T_bc8ee_row15_col5, #T_bc8ee_row16_col2, #T_bc8ee_row16_col13 {\n",
              "  background-color: #fff7fb;\n",
              "  color: #000000;\n",
              "}\n",
              "#T_bc8ee_row1_col2, #T_bc8ee_row12_col13, #T_bc8ee_row14_col13 {\n",
              "  background-color: #f3edf5;\n",
              "  color: #000000;\n",
              "}\n",
              "#T_bc8ee_row1_col10, #T_bc8ee_row2_col6, #T_bc8ee_row2_col8, #T_bc8ee_row4_col9, #T_bc8ee_row4_col11, #T_bc8ee_row9_col13, #T_bc8ee_row10_col3, #T_bc8ee_row10_col5, #T_bc8ee_row11_col13 {\n",
              "  background-color: #faf2f8;\n",
              "  color: #000000;\n",
              "}\n",
              "#T_bc8ee_row1_col15, #T_bc8ee_row9_col4, #T_bc8ee_row10_col13, #T_bc8ee_row11_col4, #T_bc8ee_row13_col12, #T_bc8ee_row13_col14, #T_bc8ee_row15_col1, #T_bc8ee_row16_col9, #T_bc8ee_row16_col11 {\n",
              "  background-color: #f8f1f8;\n",
              "  color: #000000;\n",
              "}\n",
              "#T_bc8ee_row1_col16, #T_bc8ee_row3_col2, #T_bc8ee_row5_col2, #T_bc8ee_row9_col2, #T_bc8ee_row10_col2, #T_bc8ee_row10_col16, #T_bc8ee_row11_col2, #T_bc8ee_row12_col2, #T_bc8ee_row14_col2, #T_bc8ee_row16_col12, #T_bc8ee_row16_col14 {\n",
              "  background-color: #f2ecf5;\n",
              "  color: #000000;\n",
              "}\n",
              "#T_bc8ee_row2_col1, #T_bc8ee_row2_col9, #T_bc8ee_row2_col11, #T_bc8ee_row2_col12, #T_bc8ee_row2_col14, #T_bc8ee_row4_col3, #T_bc8ee_row4_col5, #T_bc8ee_row6_col3, #T_bc8ee_row6_col5, #T_bc8ee_row7_col15, #T_bc8ee_row8_col3, #T_bc8ee_row8_col5, #T_bc8ee_row12_col0, #T_bc8ee_row12_col7, #T_bc8ee_row13_col3, #T_bc8ee_row13_col5, #T_bc8ee_row14_col0, #T_bc8ee_row14_col7, #T_bc8ee_row16_col7 {\n",
              "  background-color: #fcf4fa;\n",
              "  color: #000000;\n",
              "}\n",
              "#T_bc8ee_row2_col13 {\n",
              "  background-color: #f5eff6;\n",
              "  color: #000000;\n",
              "}\n",
              "#T_bc8ee_row3_col10, #T_bc8ee_row4_col12, #T_bc8ee_row4_col14, #T_bc8ee_row5_col10, #T_bc8ee_row10_col1, #T_bc8ee_row12_col4, #T_bc8ee_row14_col4, #T_bc8ee_row16_col4 {\n",
              "  background-color: #f9f2f8;\n",
              "  color: #000000;\n",
              "}\n",
              "#T_bc8ee_row3_col13, #T_bc8ee_row4_col0, #T_bc8ee_row4_col13, #T_bc8ee_row5_col13, #T_bc8ee_row6_col13, #T_bc8ee_row8_col13 {\n",
              "  background-color: #f7f0f7;\n",
              "  color: #000000;\n",
              "}\n",
              "#T_bc8ee_row3_col16, #T_bc8ee_row5_col16 {\n",
              "  background-color: #c9cee4;\n",
              "  color: #000000;\n",
              "}\n",
              "#T_bc8ee_row4_col2 {\n",
              "  background-color: #f4eef6;\n",
              "  color: #000000;\n",
              "}\n",
              "#T_bc8ee_row4_col16, #T_bc8ee_row6_col2, #T_bc8ee_row8_col2 {\n",
              "  background-color: #f0eaf4;\n",
              "  color: #000000;\n",
              "}\n",
              "#T_bc8ee_row6_col16, #T_bc8ee_row8_col16 {\n",
              "  background-color: #e3e0ee;\n",
              "  color: #000000;\n",
              "}\n",
              "#T_bc8ee_row7_col0, #T_bc8ee_row13_col0, #T_bc8ee_row13_col16, #T_bc8ee_row15_col13 {\n",
              "  background-color: #faf3f9;\n",
              "  color: #000000;\n",
              "}\n",
              "#T_bc8ee_row7_col16 {\n",
              "  background-color: #f1ebf5;\n",
              "  color: #000000;\n",
              "}\n",
              "#T_bc8ee_row9_col16, #T_bc8ee_row11_col16 {\n",
              "  background-color: #eee8f3;\n",
              "  color: #000000;\n",
              "}\n",
              "#T_bc8ee_row12_col16, #T_bc8ee_row14_col16 {\n",
              "  background-color: #e7e3f0;\n",
              "  color: #000000;\n",
              "}\n",
              "#T_bc8ee_row15_col16 {\n",
              "  background-color: #c8cde4;\n",
              "  color: #000000;\n",
              "}\n",
              "#T_bc8ee_row16_col3, #T_bc8ee_row16_col5 {\n",
              "  background-color: #d8d7e9;\n",
              "  color: #000000;\n",
              "}\n",
              "#T_bc8ee_row16_col6, #T_bc8ee_row16_col8 {\n",
              "  background-color: #eee9f3;\n",
              "  color: #000000;\n",
              "}\n",
              "#T_bc8ee_row16_col15 {\n",
              "  background-color: #d6d6e9;\n",
              "  color: #000000;\n",
              "}\n",
              "</style>\n",
              "<table id=\"T_bc8ee_\" class=\"dataframe\">\n",
              "  <thead>\n",
              "    <tr>\n",
              "      <th class=\"blank level0\" >&nbsp;</th>\n",
              "      <th class=\"col_heading level0 col0\" >Account_length</th>\n",
              "      <th class=\"col_heading level0 col1\" >Area_code</th>\n",
              "      <th class=\"col_heading level0 col2\" >Number_vmail_messages</th>\n",
              "      <th class=\"col_heading level0 col3\" >Total_day_minutes</th>\n",
              "      <th class=\"col_heading level0 col4\" >Total_day_calls</th>\n",
              "      <th class=\"col_heading level0 col5\" >Total_day_charge</th>\n",
              "      <th class=\"col_heading level0 col6\" >Total_eve_minutes</th>\n",
              "      <th class=\"col_heading level0 col7\" >Total_eve_calls</th>\n",
              "      <th class=\"col_heading level0 col8\" >Total_eve_charge</th>\n",
              "      <th class=\"col_heading level0 col9\" >Total_night_minutes</th>\n",
              "      <th class=\"col_heading level0 col10\" >Total_night_calls</th>\n",
              "      <th class=\"col_heading level0 col11\" >Total_night_charge</th>\n",
              "      <th class=\"col_heading level0 col12\" >Total_intl_minutes</th>\n",
              "      <th class=\"col_heading level0 col13\" >Total_intl_calls</th>\n",
              "      <th class=\"col_heading level0 col14\" >Total_intl_charge</th>\n",
              "      <th class=\"col_heading level0 col15\" >Customer_service_calls</th>\n",
              "      <th class=\"col_heading level0 col16\" >Churn</th>\n",
              "    </tr>\n",
              "  </thead>\n",
              "  <tbody>\n",
              "    <tr>\n",
              "      <th id=\"T_bc8ee_level0_row0\" class=\"row_heading level0 row0\" >Account_length</th>\n",
              "      <td id=\"T_bc8ee_row0_col0\" class=\"data row0 col0\" >1.0</td>\n",
              "      <td id=\"T_bc8ee_row0_col1\" class=\"data row0 col1\" >-0.0</td>\n",
              "      <td id=\"T_bc8ee_row0_col2\" class=\"data row0 col2\" >-0.0</td>\n",
              "      <td id=\"T_bc8ee_row0_col3\" class=\"data row0 col3\" >0.0</td>\n",
              "      <td id=\"T_bc8ee_row0_col4\" class=\"data row0 col4\" >0.0</td>\n",
              "      <td id=\"T_bc8ee_row0_col5\" class=\"data row0 col5\" >0.0</td>\n",
              "      <td id=\"T_bc8ee_row0_col6\" class=\"data row0 col6\" >-0.0</td>\n",
              "      <td id=\"T_bc8ee_row0_col7\" class=\"data row0 col7\" >0.0</td>\n",
              "      <td id=\"T_bc8ee_row0_col8\" class=\"data row0 col8\" >-0.0</td>\n",
              "      <td id=\"T_bc8ee_row0_col9\" class=\"data row0 col9\" >-0.0</td>\n",
              "      <td id=\"T_bc8ee_row0_col10\" class=\"data row0 col10\" >-0.0</td>\n",
              "      <td id=\"T_bc8ee_row0_col11\" class=\"data row0 col11\" >-0.0</td>\n",
              "      <td id=\"T_bc8ee_row0_col12\" class=\"data row0 col12\" >0.0</td>\n",
              "      <td id=\"T_bc8ee_row0_col13\" class=\"data row0 col13\" >0.0</td>\n",
              "      <td id=\"T_bc8ee_row0_col14\" class=\"data row0 col14\" >0.0</td>\n",
              "      <td id=\"T_bc8ee_row0_col15\" class=\"data row0 col15\" >-0.0</td>\n",
              "      <td id=\"T_bc8ee_row0_col16\" class=\"data row0 col16\" >0.0</td>\n",
              "    </tr>\n",
              "    <tr>\n",
              "      <th id=\"T_bc8ee_level0_row1\" class=\"row_heading level0 row1\" >Area_code</th>\n",
              "      <td id=\"T_bc8ee_row1_col0\" class=\"data row1 col0\" >-0.0</td>\n",
              "      <td id=\"T_bc8ee_row1_col1\" class=\"data row1 col1\" >1.0</td>\n",
              "      <td id=\"T_bc8ee_row1_col2\" class=\"data row1 col2\" >-0.0</td>\n",
              "      <td id=\"T_bc8ee_row1_col3\" class=\"data row1 col3\" >-0.0</td>\n",
              "      <td id=\"T_bc8ee_row1_col4\" class=\"data row1 col4\" >-0.0</td>\n",
              "      <td id=\"T_bc8ee_row1_col5\" class=\"data row1 col5\" >-0.0</td>\n",
              "      <td id=\"T_bc8ee_row1_col6\" class=\"data row1 col6\" >0.0</td>\n",
              "      <td id=\"T_bc8ee_row1_col7\" class=\"data row1 col7\" >-0.0</td>\n",
              "      <td id=\"T_bc8ee_row1_col8\" class=\"data row1 col8\" >0.0</td>\n",
              "      <td id=\"T_bc8ee_row1_col9\" class=\"data row1 col9\" >-0.0</td>\n",
              "      <td id=\"T_bc8ee_row1_col10\" class=\"data row1 col10\" >0.0</td>\n",
              "      <td id=\"T_bc8ee_row1_col11\" class=\"data row1 col11\" >-0.0</td>\n",
              "      <td id=\"T_bc8ee_row1_col12\" class=\"data row1 col12\" >-0.0</td>\n",
              "      <td id=\"T_bc8ee_row1_col13\" class=\"data row1 col13\" >-0.0</td>\n",
              "      <td id=\"T_bc8ee_row1_col14\" class=\"data row1 col14\" >-0.0</td>\n",
              "      <td id=\"T_bc8ee_row1_col15\" class=\"data row1 col15\" >0.0</td>\n",
              "      <td id=\"T_bc8ee_row1_col16\" class=\"data row1 col16\" >0.0</td>\n",
              "    </tr>\n",
              "    <tr>\n",
              "      <th id=\"T_bc8ee_level0_row2\" class=\"row_heading level0 row2\" >Number_vmail_messages</th>\n",
              "      <td id=\"T_bc8ee_row2_col0\" class=\"data row2 col0\" >-0.0</td>\n",
              "      <td id=\"T_bc8ee_row2_col1\" class=\"data row2 col1\" >-0.0</td>\n",
              "      <td id=\"T_bc8ee_row2_col2\" class=\"data row2 col2\" >1.0</td>\n",
              "      <td id=\"T_bc8ee_row2_col3\" class=\"data row2 col3\" >0.0</td>\n",
              "      <td id=\"T_bc8ee_row2_col4\" class=\"data row2 col4\" >-0.0</td>\n",
              "      <td id=\"T_bc8ee_row2_col5\" class=\"data row2 col5\" >0.0</td>\n",
              "      <td id=\"T_bc8ee_row2_col6\" class=\"data row2 col6\" >0.0</td>\n",
              "      <td id=\"T_bc8ee_row2_col7\" class=\"data row2 col7\" >-0.0</td>\n",
              "      <td id=\"T_bc8ee_row2_col8\" class=\"data row2 col8\" >0.0</td>\n",
              "      <td id=\"T_bc8ee_row2_col9\" class=\"data row2 col9\" >0.0</td>\n",
              "      <td id=\"T_bc8ee_row2_col10\" class=\"data row2 col10\" >0.0</td>\n",
              "      <td id=\"T_bc8ee_row2_col11\" class=\"data row2 col11\" >0.0</td>\n",
              "      <td id=\"T_bc8ee_row2_col12\" class=\"data row2 col12\" >0.0</td>\n",
              "      <td id=\"T_bc8ee_row2_col13\" class=\"data row2 col13\" >0.0</td>\n",
              "      <td id=\"T_bc8ee_row2_col14\" class=\"data row2 col14\" >0.0</td>\n",
              "      <td id=\"T_bc8ee_row2_col15\" class=\"data row2 col15\" >-0.0</td>\n",
              "      <td id=\"T_bc8ee_row2_col16\" class=\"data row2 col16\" >-0.1</td>\n",
              "    </tr>\n",
              "    <tr>\n",
              "      <th id=\"T_bc8ee_level0_row3\" class=\"row_heading level0 row3\" >Total_day_minutes</th>\n",
              "      <td id=\"T_bc8ee_row3_col0\" class=\"data row3 col0\" >0.0</td>\n",
              "      <td id=\"T_bc8ee_row3_col1\" class=\"data row3 col1\" >-0.0</td>\n",
              "      <td id=\"T_bc8ee_row3_col2\" class=\"data row3 col2\" >0.0</td>\n",
              "      <td id=\"T_bc8ee_row3_col3\" class=\"data row3 col3\" >1.0</td>\n",
              "      <td id=\"T_bc8ee_row3_col4\" class=\"data row3 col4\" >0.0</td>\n",
              "      <td id=\"T_bc8ee_row3_col5\" class=\"data row3 col5\" >1.0</td>\n",
              "      <td id=\"T_bc8ee_row3_col6\" class=\"data row3 col6\" >0.0</td>\n",
              "      <td id=\"T_bc8ee_row3_col7\" class=\"data row3 col7\" >0.0</td>\n",
              "      <td id=\"T_bc8ee_row3_col8\" class=\"data row3 col8\" >0.0</td>\n",
              "      <td id=\"T_bc8ee_row3_col9\" class=\"data row3 col9\" >0.0</td>\n",
              "      <td id=\"T_bc8ee_row3_col10\" class=\"data row3 col10\" >0.0</td>\n",
              "      <td id=\"T_bc8ee_row3_col11\" class=\"data row3 col11\" >0.0</td>\n",
              "      <td id=\"T_bc8ee_row3_col12\" class=\"data row3 col12\" >-0.0</td>\n",
              "      <td id=\"T_bc8ee_row3_col13\" class=\"data row3 col13\" >0.0</td>\n",
              "      <td id=\"T_bc8ee_row3_col14\" class=\"data row3 col14\" >-0.0</td>\n",
              "      <td id=\"T_bc8ee_row3_col15\" class=\"data row3 col15\" >-0.0</td>\n",
              "      <td id=\"T_bc8ee_row3_col16\" class=\"data row3 col16\" >0.2</td>\n",
              "    </tr>\n",
              "    <tr>\n",
              "      <th id=\"T_bc8ee_level0_row4\" class=\"row_heading level0 row4\" >Total_day_calls</th>\n",
              "      <td id=\"T_bc8ee_row4_col0\" class=\"data row4 col0\" >0.0</td>\n",
              "      <td id=\"T_bc8ee_row4_col1\" class=\"data row4 col1\" >-0.0</td>\n",
              "      <td id=\"T_bc8ee_row4_col2\" class=\"data row4 col2\" >-0.0</td>\n",
              "      <td id=\"T_bc8ee_row4_col3\" class=\"data row4 col3\" >0.0</td>\n",
              "      <td id=\"T_bc8ee_row4_col4\" class=\"data row4 col4\" >1.0</td>\n",
              "      <td id=\"T_bc8ee_row4_col5\" class=\"data row4 col5\" >0.0</td>\n",
              "      <td id=\"T_bc8ee_row4_col6\" class=\"data row4 col6\" >-0.0</td>\n",
              "      <td id=\"T_bc8ee_row4_col7\" class=\"data row4 col7\" >0.0</td>\n",
              "      <td id=\"T_bc8ee_row4_col8\" class=\"data row4 col8\" >-0.0</td>\n",
              "      <td id=\"T_bc8ee_row4_col9\" class=\"data row4 col9\" >0.0</td>\n",
              "      <td id=\"T_bc8ee_row4_col10\" class=\"data row4 col10\" >-0.0</td>\n",
              "      <td id=\"T_bc8ee_row4_col11\" class=\"data row4 col11\" >0.0</td>\n",
              "      <td id=\"T_bc8ee_row4_col12\" class=\"data row4 col12\" >0.0</td>\n",
              "      <td id=\"T_bc8ee_row4_col13\" class=\"data row4 col13\" >0.0</td>\n",
              "      <td id=\"T_bc8ee_row4_col14\" class=\"data row4 col14\" >0.0</td>\n",
              "      <td id=\"T_bc8ee_row4_col15\" class=\"data row4 col15\" >-0.0</td>\n",
              "      <td id=\"T_bc8ee_row4_col16\" class=\"data row4 col16\" >0.0</td>\n",
              "    </tr>\n",
              "    <tr>\n",
              "      <th id=\"T_bc8ee_level0_row5\" class=\"row_heading level0 row5\" >Total_day_charge</th>\n",
              "      <td id=\"T_bc8ee_row5_col0\" class=\"data row5 col0\" >0.0</td>\n",
              "      <td id=\"T_bc8ee_row5_col1\" class=\"data row5 col1\" >-0.0</td>\n",
              "      <td id=\"T_bc8ee_row5_col2\" class=\"data row5 col2\" >0.0</td>\n",
              "      <td id=\"T_bc8ee_row5_col3\" class=\"data row5 col3\" >1.0</td>\n",
              "      <td id=\"T_bc8ee_row5_col4\" class=\"data row5 col4\" >0.0</td>\n",
              "      <td id=\"T_bc8ee_row5_col5\" class=\"data row5 col5\" >1.0</td>\n",
              "      <td id=\"T_bc8ee_row5_col6\" class=\"data row5 col6\" >0.0</td>\n",
              "      <td id=\"T_bc8ee_row5_col7\" class=\"data row5 col7\" >0.0</td>\n",
              "      <td id=\"T_bc8ee_row5_col8\" class=\"data row5 col8\" >0.0</td>\n",
              "      <td id=\"T_bc8ee_row5_col9\" class=\"data row5 col9\" >0.0</td>\n",
              "      <td id=\"T_bc8ee_row5_col10\" class=\"data row5 col10\" >0.0</td>\n",
              "      <td id=\"T_bc8ee_row5_col11\" class=\"data row5 col11\" >0.0</td>\n",
              "      <td id=\"T_bc8ee_row5_col12\" class=\"data row5 col12\" >-0.0</td>\n",
              "      <td id=\"T_bc8ee_row5_col13\" class=\"data row5 col13\" >0.0</td>\n",
              "      <td id=\"T_bc8ee_row5_col14\" class=\"data row5 col14\" >-0.0</td>\n",
              "      <td id=\"T_bc8ee_row5_col15\" class=\"data row5 col15\" >-0.0</td>\n",
              "      <td id=\"T_bc8ee_row5_col16\" class=\"data row5 col16\" >0.2</td>\n",
              "    </tr>\n",
              "    <tr>\n",
              "      <th id=\"T_bc8ee_level0_row6\" class=\"row_heading level0 row6\" >Total_eve_minutes</th>\n",
              "      <td id=\"T_bc8ee_row6_col0\" class=\"data row6 col0\" >-0.0</td>\n",
              "      <td id=\"T_bc8ee_row6_col1\" class=\"data row6 col1\" >0.0</td>\n",
              "      <td id=\"T_bc8ee_row6_col2\" class=\"data row6 col2\" >0.0</td>\n",
              "      <td id=\"T_bc8ee_row6_col3\" class=\"data row6 col3\" >0.0</td>\n",
              "      <td id=\"T_bc8ee_row6_col4\" class=\"data row6 col4\" >-0.0</td>\n",
              "      <td id=\"T_bc8ee_row6_col5\" class=\"data row6 col5\" >0.0</td>\n",
              "      <td id=\"T_bc8ee_row6_col6\" class=\"data row6 col6\" >1.0</td>\n",
              "      <td id=\"T_bc8ee_row6_col7\" class=\"data row6 col7\" >-0.0</td>\n",
              "      <td id=\"T_bc8ee_row6_col8\" class=\"data row6 col8\" >1.0</td>\n",
              "      <td id=\"T_bc8ee_row6_col9\" class=\"data row6 col9\" >-0.0</td>\n",
              "      <td id=\"T_bc8ee_row6_col10\" class=\"data row6 col10\" >0.0</td>\n",
              "      <td id=\"T_bc8ee_row6_col11\" class=\"data row6 col11\" >-0.0</td>\n",
              "      <td id=\"T_bc8ee_row6_col12\" class=\"data row6 col12\" >-0.0</td>\n",
              "      <td id=\"T_bc8ee_row6_col13\" class=\"data row6 col13\" >0.0</td>\n",
              "      <td id=\"T_bc8ee_row6_col14\" class=\"data row6 col14\" >-0.0</td>\n",
              "      <td id=\"T_bc8ee_row6_col15\" class=\"data row6 col15\" >-0.0</td>\n",
              "      <td id=\"T_bc8ee_row6_col16\" class=\"data row6 col16\" >0.1</td>\n",
              "    </tr>\n",
              "    <tr>\n",
              "      <th id=\"T_bc8ee_level0_row7\" class=\"row_heading level0 row7\" >Total_eve_calls</th>\n",
              "      <td id=\"T_bc8ee_row7_col0\" class=\"data row7 col0\" >0.0</td>\n",
              "      <td id=\"T_bc8ee_row7_col1\" class=\"data row7 col1\" >-0.0</td>\n",
              "      <td id=\"T_bc8ee_row7_col2\" class=\"data row7 col2\" >-0.0</td>\n",
              "      <td id=\"T_bc8ee_row7_col3\" class=\"data row7 col3\" >0.0</td>\n",
              "      <td id=\"T_bc8ee_row7_col4\" class=\"data row7 col4\" >0.0</td>\n",
              "      <td id=\"T_bc8ee_row7_col5\" class=\"data row7 col5\" >0.0</td>\n",
              "      <td id=\"T_bc8ee_row7_col6\" class=\"data row7 col6\" >-0.0</td>\n",
              "      <td id=\"T_bc8ee_row7_col7\" class=\"data row7 col7\" >1.0</td>\n",
              "      <td id=\"T_bc8ee_row7_col8\" class=\"data row7 col8\" >-0.0</td>\n",
              "      <td id=\"T_bc8ee_row7_col9\" class=\"data row7 col9\" >-0.0</td>\n",
              "      <td id=\"T_bc8ee_row7_col10\" class=\"data row7 col10\" >0.0</td>\n",
              "      <td id=\"T_bc8ee_row7_col11\" class=\"data row7 col11\" >-0.0</td>\n",
              "      <td id=\"T_bc8ee_row7_col12\" class=\"data row7 col12\" >0.0</td>\n",
              "      <td id=\"T_bc8ee_row7_col13\" class=\"data row7 col13\" >0.0</td>\n",
              "      <td id=\"T_bc8ee_row7_col14\" class=\"data row7 col14\" >0.0</td>\n",
              "      <td id=\"T_bc8ee_row7_col15\" class=\"data row7 col15\" >0.0</td>\n",
              "      <td id=\"T_bc8ee_row7_col16\" class=\"data row7 col16\" >0.0</td>\n",
              "    </tr>\n",
              "    <tr>\n",
              "      <th id=\"T_bc8ee_level0_row8\" class=\"row_heading level0 row8\" >Total_eve_charge</th>\n",
              "      <td id=\"T_bc8ee_row8_col0\" class=\"data row8 col0\" >-0.0</td>\n",
              "      <td id=\"T_bc8ee_row8_col1\" class=\"data row8 col1\" >0.0</td>\n",
              "      <td id=\"T_bc8ee_row8_col2\" class=\"data row8 col2\" >0.0</td>\n",
              "      <td id=\"T_bc8ee_row8_col3\" class=\"data row8 col3\" >0.0</td>\n",
              "      <td id=\"T_bc8ee_row8_col4\" class=\"data row8 col4\" >-0.0</td>\n",
              "      <td id=\"T_bc8ee_row8_col5\" class=\"data row8 col5\" >0.0</td>\n",
              "      <td id=\"T_bc8ee_row8_col6\" class=\"data row8 col6\" >1.0</td>\n",
              "      <td id=\"T_bc8ee_row8_col7\" class=\"data row8 col7\" >-0.0</td>\n",
              "      <td id=\"T_bc8ee_row8_col8\" class=\"data row8 col8\" >1.0</td>\n",
              "      <td id=\"T_bc8ee_row8_col9\" class=\"data row8 col9\" >-0.0</td>\n",
              "      <td id=\"T_bc8ee_row8_col10\" class=\"data row8 col10\" >0.0</td>\n",
              "      <td id=\"T_bc8ee_row8_col11\" class=\"data row8 col11\" >-0.0</td>\n",
              "      <td id=\"T_bc8ee_row8_col12\" class=\"data row8 col12\" >-0.0</td>\n",
              "      <td id=\"T_bc8ee_row8_col13\" class=\"data row8 col13\" >0.0</td>\n",
              "      <td id=\"T_bc8ee_row8_col14\" class=\"data row8 col14\" >-0.0</td>\n",
              "      <td id=\"T_bc8ee_row8_col15\" class=\"data row8 col15\" >-0.0</td>\n",
              "      <td id=\"T_bc8ee_row8_col16\" class=\"data row8 col16\" >0.1</td>\n",
              "    </tr>\n",
              "    <tr>\n",
              "      <th id=\"T_bc8ee_level0_row9\" class=\"row_heading level0 row9\" >Total_night_minutes</th>\n",
              "      <td id=\"T_bc8ee_row9_col0\" class=\"data row9 col0\" >-0.0</td>\n",
              "      <td id=\"T_bc8ee_row9_col1\" class=\"data row9 col1\" >-0.0</td>\n",
              "      <td id=\"T_bc8ee_row9_col2\" class=\"data row9 col2\" >0.0</td>\n",
              "      <td id=\"T_bc8ee_row9_col3\" class=\"data row9 col3\" >0.0</td>\n",
              "      <td id=\"T_bc8ee_row9_col4\" class=\"data row9 col4\" >0.0</td>\n",
              "      <td id=\"T_bc8ee_row9_col5\" class=\"data row9 col5\" >0.0</td>\n",
              "      <td id=\"T_bc8ee_row9_col6\" class=\"data row9 col6\" >-0.0</td>\n",
              "      <td id=\"T_bc8ee_row9_col7\" class=\"data row9 col7\" >-0.0</td>\n",
              "      <td id=\"T_bc8ee_row9_col8\" class=\"data row9 col8\" >-0.0</td>\n",
              "      <td id=\"T_bc8ee_row9_col9\" class=\"data row9 col9\" >1.0</td>\n",
              "      <td id=\"T_bc8ee_row9_col10\" class=\"data row9 col10\" >0.0</td>\n",
              "      <td id=\"T_bc8ee_row9_col11\" class=\"data row9 col11\" >1.0</td>\n",
              "      <td id=\"T_bc8ee_row9_col12\" class=\"data row9 col12\" >-0.0</td>\n",
              "      <td id=\"T_bc8ee_row9_col13\" class=\"data row9 col13\" >-0.0</td>\n",
              "      <td id=\"T_bc8ee_row9_col14\" class=\"data row9 col14\" >-0.0</td>\n",
              "      <td id=\"T_bc8ee_row9_col15\" class=\"data row9 col15\" >-0.0</td>\n",
              "      <td id=\"T_bc8ee_row9_col16\" class=\"data row9 col16\" >0.0</td>\n",
              "    </tr>\n",
              "    <tr>\n",
              "      <th id=\"T_bc8ee_level0_row10\" class=\"row_heading level0 row10\" >Total_night_calls</th>\n",
              "      <td id=\"T_bc8ee_row10_col0\" class=\"data row10 col0\" >-0.0</td>\n",
              "      <td id=\"T_bc8ee_row10_col1\" class=\"data row10 col1\" >0.0</td>\n",
              "      <td id=\"T_bc8ee_row10_col2\" class=\"data row10 col2\" >0.0</td>\n",
              "      <td id=\"T_bc8ee_row10_col3\" class=\"data row10 col3\" >0.0</td>\n",
              "      <td id=\"T_bc8ee_row10_col4\" class=\"data row10 col4\" >-0.0</td>\n",
              "      <td id=\"T_bc8ee_row10_col5\" class=\"data row10 col5\" >0.0</td>\n",
              "      <td id=\"T_bc8ee_row10_col6\" class=\"data row10 col6\" >0.0</td>\n",
              "      <td id=\"T_bc8ee_row10_col7\" class=\"data row10 col7\" >0.0</td>\n",
              "      <td id=\"T_bc8ee_row10_col8\" class=\"data row10 col8\" >0.0</td>\n",
              "      <td id=\"T_bc8ee_row10_col9\" class=\"data row10 col9\" >0.0</td>\n",
              "      <td id=\"T_bc8ee_row10_col10\" class=\"data row10 col10\" >1.0</td>\n",
              "      <td id=\"T_bc8ee_row10_col11\" class=\"data row10 col11\" >0.0</td>\n",
              "      <td id=\"T_bc8ee_row10_col12\" class=\"data row10 col12\" >-0.0</td>\n",
              "      <td id=\"T_bc8ee_row10_col13\" class=\"data row10 col13\" >0.0</td>\n",
              "      <td id=\"T_bc8ee_row10_col14\" class=\"data row10 col14\" >-0.0</td>\n",
              "      <td id=\"T_bc8ee_row10_col15\" class=\"data row10 col15\" >-0.0</td>\n",
              "      <td id=\"T_bc8ee_row10_col16\" class=\"data row10 col16\" >0.0</td>\n",
              "    </tr>\n",
              "    <tr>\n",
              "      <th id=\"T_bc8ee_level0_row11\" class=\"row_heading level0 row11\" >Total_night_charge</th>\n",
              "      <td id=\"T_bc8ee_row11_col0\" class=\"data row11 col0\" >-0.0</td>\n",
              "      <td id=\"T_bc8ee_row11_col1\" class=\"data row11 col1\" >-0.0</td>\n",
              "      <td id=\"T_bc8ee_row11_col2\" class=\"data row11 col2\" >0.0</td>\n",
              "      <td id=\"T_bc8ee_row11_col3\" class=\"data row11 col3\" >0.0</td>\n",
              "      <td id=\"T_bc8ee_row11_col4\" class=\"data row11 col4\" >0.0</td>\n",
              "      <td id=\"T_bc8ee_row11_col5\" class=\"data row11 col5\" >0.0</td>\n",
              "      <td id=\"T_bc8ee_row11_col6\" class=\"data row11 col6\" >-0.0</td>\n",
              "      <td id=\"T_bc8ee_row11_col7\" class=\"data row11 col7\" >-0.0</td>\n",
              "      <td id=\"T_bc8ee_row11_col8\" class=\"data row11 col8\" >-0.0</td>\n",
              "      <td id=\"T_bc8ee_row11_col9\" class=\"data row11 col9\" >1.0</td>\n",
              "      <td id=\"T_bc8ee_row11_col10\" class=\"data row11 col10\" >0.0</td>\n",
              "      <td id=\"T_bc8ee_row11_col11\" class=\"data row11 col11\" >1.0</td>\n",
              "      <td id=\"T_bc8ee_row11_col12\" class=\"data row11 col12\" >-0.0</td>\n",
              "      <td id=\"T_bc8ee_row11_col13\" class=\"data row11 col13\" >-0.0</td>\n",
              "      <td id=\"T_bc8ee_row11_col14\" class=\"data row11 col14\" >-0.0</td>\n",
              "      <td id=\"T_bc8ee_row11_col15\" class=\"data row11 col15\" >-0.0</td>\n",
              "      <td id=\"T_bc8ee_row11_col16\" class=\"data row11 col16\" >0.0</td>\n",
              "    </tr>\n",
              "    <tr>\n",
              "      <th id=\"T_bc8ee_level0_row12\" class=\"row_heading level0 row12\" >Total_intl_minutes</th>\n",
              "      <td id=\"T_bc8ee_row12_col0\" class=\"data row12 col0\" >0.0</td>\n",
              "      <td id=\"T_bc8ee_row12_col1\" class=\"data row12 col1\" >-0.0</td>\n",
              "      <td id=\"T_bc8ee_row12_col2\" class=\"data row12 col2\" >0.0</td>\n",
              "      <td id=\"T_bc8ee_row12_col3\" class=\"data row12 col3\" >-0.0</td>\n",
              "      <td id=\"T_bc8ee_row12_col4\" class=\"data row12 col4\" >0.0</td>\n",
              "      <td id=\"T_bc8ee_row12_col5\" class=\"data row12 col5\" >-0.0</td>\n",
              "      <td id=\"T_bc8ee_row12_col6\" class=\"data row12 col6\" >-0.0</td>\n",
              "      <td id=\"T_bc8ee_row12_col7\" class=\"data row12 col7\" >0.0</td>\n",
              "      <td id=\"T_bc8ee_row12_col8\" class=\"data row12 col8\" >-0.0</td>\n",
              "      <td id=\"T_bc8ee_row12_col9\" class=\"data row12 col9\" >-0.0</td>\n",
              "      <td id=\"T_bc8ee_row12_col10\" class=\"data row12 col10\" >-0.0</td>\n",
              "      <td id=\"T_bc8ee_row12_col11\" class=\"data row12 col11\" >-0.0</td>\n",
              "      <td id=\"T_bc8ee_row12_col12\" class=\"data row12 col12\" >1.0</td>\n",
              "      <td id=\"T_bc8ee_row12_col13\" class=\"data row12 col13\" >0.0</td>\n",
              "      <td id=\"T_bc8ee_row12_col14\" class=\"data row12 col14\" >1.0</td>\n",
              "      <td id=\"T_bc8ee_row12_col15\" class=\"data row12 col15\" >-0.0</td>\n",
              "      <td id=\"T_bc8ee_row12_col16\" class=\"data row12 col16\" >0.1</td>\n",
              "    </tr>\n",
              "    <tr>\n",
              "      <th id=\"T_bc8ee_level0_row13\" class=\"row_heading level0 row13\" >Total_intl_calls</th>\n",
              "      <td id=\"T_bc8ee_row13_col0\" class=\"data row13 col0\" >0.0</td>\n",
              "      <td id=\"T_bc8ee_row13_col1\" class=\"data row13 col1\" >-0.0</td>\n",
              "      <td id=\"T_bc8ee_row13_col2\" class=\"data row13 col2\" >0.0</td>\n",
              "      <td id=\"T_bc8ee_row13_col3\" class=\"data row13 col3\" >0.0</td>\n",
              "      <td id=\"T_bc8ee_row13_col4\" class=\"data row13 col4\" >0.0</td>\n",
              "      <td id=\"T_bc8ee_row13_col5\" class=\"data row13 col5\" >0.0</td>\n",
              "      <td id=\"T_bc8ee_row13_col6\" class=\"data row13 col6\" >0.0</td>\n",
              "      <td id=\"T_bc8ee_row13_col7\" class=\"data row13 col7\" >0.0</td>\n",
              "      <td id=\"T_bc8ee_row13_col8\" class=\"data row13 col8\" >0.0</td>\n",
              "      <td id=\"T_bc8ee_row13_col9\" class=\"data row13 col9\" >-0.0</td>\n",
              "      <td id=\"T_bc8ee_row13_col10\" class=\"data row13 col10\" >0.0</td>\n",
              "      <td id=\"T_bc8ee_row13_col11\" class=\"data row13 col11\" >-0.0</td>\n",
              "      <td id=\"T_bc8ee_row13_col12\" class=\"data row13 col12\" >0.0</td>\n",
              "      <td id=\"T_bc8ee_row13_col13\" class=\"data row13 col13\" >1.0</td>\n",
              "      <td id=\"T_bc8ee_row13_col14\" class=\"data row13 col14\" >0.0</td>\n",
              "      <td id=\"T_bc8ee_row13_col15\" class=\"data row13 col15\" >-0.0</td>\n",
              "      <td id=\"T_bc8ee_row13_col16\" class=\"data row13 col16\" >-0.1</td>\n",
              "    </tr>\n",
              "    <tr>\n",
              "      <th id=\"T_bc8ee_level0_row14\" class=\"row_heading level0 row14\" >Total_intl_charge</th>\n",
              "      <td id=\"T_bc8ee_row14_col0\" class=\"data row14 col0\" >0.0</td>\n",
              "      <td id=\"T_bc8ee_row14_col1\" class=\"data row14 col1\" >-0.0</td>\n",
              "      <td id=\"T_bc8ee_row14_col2\" class=\"data row14 col2\" >0.0</td>\n",
              "      <td id=\"T_bc8ee_row14_col3\" class=\"data row14 col3\" >-0.0</td>\n",
              "      <td id=\"T_bc8ee_row14_col4\" class=\"data row14 col4\" >0.0</td>\n",
              "      <td id=\"T_bc8ee_row14_col5\" class=\"data row14 col5\" >-0.0</td>\n",
              "      <td id=\"T_bc8ee_row14_col6\" class=\"data row14 col6\" >-0.0</td>\n",
              "      <td id=\"T_bc8ee_row14_col7\" class=\"data row14 col7\" >0.0</td>\n",
              "      <td id=\"T_bc8ee_row14_col8\" class=\"data row14 col8\" >-0.0</td>\n",
              "      <td id=\"T_bc8ee_row14_col9\" class=\"data row14 col9\" >-0.0</td>\n",
              "      <td id=\"T_bc8ee_row14_col10\" class=\"data row14 col10\" >-0.0</td>\n",
              "      <td id=\"T_bc8ee_row14_col11\" class=\"data row14 col11\" >-0.0</td>\n",
              "      <td id=\"T_bc8ee_row14_col12\" class=\"data row14 col12\" >1.0</td>\n",
              "      <td id=\"T_bc8ee_row14_col13\" class=\"data row14 col13\" >0.0</td>\n",
              "      <td id=\"T_bc8ee_row14_col14\" class=\"data row14 col14\" >1.0</td>\n",
              "      <td id=\"T_bc8ee_row14_col15\" class=\"data row14 col15\" >-0.0</td>\n",
              "      <td id=\"T_bc8ee_row14_col16\" class=\"data row14 col16\" >0.1</td>\n",
              "    </tr>\n",
              "    <tr>\n",
              "      <th id=\"T_bc8ee_level0_row15\" class=\"row_heading level0 row15\" >Customer_service_calls</th>\n",
              "      <td id=\"T_bc8ee_row15_col0\" class=\"data row15 col0\" >-0.0</td>\n",
              "      <td id=\"T_bc8ee_row15_col1\" class=\"data row15 col1\" >0.0</td>\n",
              "      <td id=\"T_bc8ee_row15_col2\" class=\"data row15 col2\" >-0.0</td>\n",
              "      <td id=\"T_bc8ee_row15_col3\" class=\"data row15 col3\" >-0.0</td>\n",
              "      <td id=\"T_bc8ee_row15_col4\" class=\"data row15 col4\" >-0.0</td>\n",
              "      <td id=\"T_bc8ee_row15_col5\" class=\"data row15 col5\" >-0.0</td>\n",
              "      <td id=\"T_bc8ee_row15_col6\" class=\"data row15 col6\" >-0.0</td>\n",
              "      <td id=\"T_bc8ee_row15_col7\" class=\"data row15 col7\" >0.0</td>\n",
              "      <td id=\"T_bc8ee_row15_col8\" class=\"data row15 col8\" >-0.0</td>\n",
              "      <td id=\"T_bc8ee_row15_col9\" class=\"data row15 col9\" >-0.0</td>\n",
              "      <td id=\"T_bc8ee_row15_col10\" class=\"data row15 col10\" >-0.0</td>\n",
              "      <td id=\"T_bc8ee_row15_col11\" class=\"data row15 col11\" >-0.0</td>\n",
              "      <td id=\"T_bc8ee_row15_col12\" class=\"data row15 col12\" >-0.0</td>\n",
              "      <td id=\"T_bc8ee_row15_col13\" class=\"data row15 col13\" >-0.0</td>\n",
              "      <td id=\"T_bc8ee_row15_col14\" class=\"data row15 col14\" >-0.0</td>\n",
              "      <td id=\"T_bc8ee_row15_col15\" class=\"data row15 col15\" >1.0</td>\n",
              "      <td id=\"T_bc8ee_row15_col16\" class=\"data row15 col16\" >0.2</td>\n",
              "    </tr>\n",
              "    <tr>\n",
              "      <th id=\"T_bc8ee_level0_row16\" class=\"row_heading level0 row16\" >Churn</th>\n",
              "      <td id=\"T_bc8ee_row16_col0\" class=\"data row16 col0\" >0.0</td>\n",
              "      <td id=\"T_bc8ee_row16_col1\" class=\"data row16 col1\" >0.0</td>\n",
              "      <td id=\"T_bc8ee_row16_col2\" class=\"data row16 col2\" >-0.1</td>\n",
              "      <td id=\"T_bc8ee_row16_col3\" class=\"data row16 col3\" >0.2</td>\n",
              "      <td id=\"T_bc8ee_row16_col4\" class=\"data row16 col4\" >0.0</td>\n",
              "      <td id=\"T_bc8ee_row16_col5\" class=\"data row16 col5\" >0.2</td>\n",
              "      <td id=\"T_bc8ee_row16_col6\" class=\"data row16 col6\" >0.1</td>\n",
              "      <td id=\"T_bc8ee_row16_col7\" class=\"data row16 col7\" >0.0</td>\n",
              "      <td id=\"T_bc8ee_row16_col8\" class=\"data row16 col8\" >0.1</td>\n",
              "      <td id=\"T_bc8ee_row16_col9\" class=\"data row16 col9\" >0.0</td>\n",
              "      <td id=\"T_bc8ee_row16_col10\" class=\"data row16 col10\" >0.0</td>\n",
              "      <td id=\"T_bc8ee_row16_col11\" class=\"data row16 col11\" >0.0</td>\n",
              "      <td id=\"T_bc8ee_row16_col12\" class=\"data row16 col12\" >0.1</td>\n",
              "      <td id=\"T_bc8ee_row16_col13\" class=\"data row16 col13\" >-0.1</td>\n",
              "      <td id=\"T_bc8ee_row16_col14\" class=\"data row16 col14\" >0.1</td>\n",
              "      <td id=\"T_bc8ee_row16_col15\" class=\"data row16 col15\" >0.2</td>\n",
              "      <td id=\"T_bc8ee_row16_col16\" class=\"data row16 col16\" >1.0</td>\n",
              "    </tr>\n",
              "  </tbody>\n",
              "</table>\n"
            ]
          },
          "metadata": {},
          "execution_count": 41
        }
      ]
    },
    {
      "cell_type": "code",
      "source": [
        "# Box Plot for Account Length attribute \n",
        "data1.boxplot(column='Account_length',by='Churn')"
      ],
      "metadata": {
        "id": "VC0f8IOyntO3",
        "outputId": "52408c75-17b4-48db-fd35-3e7ae66f18be",
        "colab": {
          "base_uri": "https://localhost:8080/",
          "height": 373
        }
      },
      "execution_count": 46,
      "outputs": [
        {
          "output_type": "stream",
          "name": "stderr",
          "text": [
            "/usr/local/lib/python3.7/dist-packages/matplotlib/cbook/__init__.py:1376: VisibleDeprecationWarning: Creating an ndarray from ragged nested sequences (which is a list-or-tuple of lists-or-tuples-or ndarrays with different lengths or shapes) is deprecated. If you meant to do this, you must specify 'dtype=object' when creating the ndarray.\n",
            "  X = np.atleast_1d(X.T if isinstance(X, np.ndarray) else np.asarray(X))\n"
          ]
        },
        {
          "output_type": "execute_result",
          "data": {
            "text/plain": [
              "<matplotlib.axes._subplots.AxesSubplot at 0x7ff3bd557e10>"
            ]
          },
          "metadata": {},
          "execution_count": 46
        },
        {
          "output_type": "display_data",
          "data": {
            "text/plain": [
              "<Figure size 432x288 with 1 Axes>"
            ],
            "image/png": "[encoded data removed]"
          },
          "metadata": {
            "needs_background": "light"
          }
        }
      ]
    },
    {
      "cell_type": "markdown",
      "source": [
        "The mean of Account length is almost similar to for both churn groups."
      ],
      "metadata": {
        "id": "o1ni7twYz575"
      }
    },
    {
      "cell_type": "code",
      "source": [
        "# Box Plot for CustServ Calls attribute \n",
        "data1.boxplot(column='Customer_service_calls',by='Churn')"
      ],
      "metadata": {
        "id": "MngauTnuosf4",
        "outputId": "2032052f-530e-4a77-d208-9eb3716a8e12",
        "colab": {
          "base_uri": "https://localhost:8080/",
          "height": 373
        }
      },
      "execution_count": 48,
      "outputs": [
        {
          "output_type": "stream",
          "name": "stderr",
          "text": [
            "/usr/local/lib/python3.7/dist-packages/matplotlib/cbook/__init__.py:1376: VisibleDeprecationWarning: Creating an ndarray from ragged nested sequences (which is a list-or-tuple of lists-or-tuples-or ndarrays with different lengths or shapes) is deprecated. If you meant to do this, you must specify 'dtype=object' when creating the ndarray.\n",
            "  X = np.atleast_1d(X.T if isinstance(X, np.ndarray) else np.asarray(X))\n"
          ]
        },
        {
          "output_type": "execute_result",
          "data": {
            "text/plain": [
              "<matplotlib.axes._subplots.AxesSubplot at 0x7ff3bd4a7410>"
            ]
          },
          "metadata": {},
          "execution_count": 48
        },
        {
          "output_type": "display_data",
          "data": {
            "text/plain": [
              "<Figure size 432x288 with 1 Axes>"
            ],
            "image/png": "[encoded data removed]"
          },
          "metadata": {
            "needs_background": "light"
          }
        }
      ]
    },
    {
      "cell_type": "markdown",
      "source": [
        "There is a considerable amount of difference in mean of Customer service calls for both the churn groups."
      ],
      "metadata": {
        "id": "epnY06aqz8r_"
      }
    },
    {
      "cell_type": "code",
      "source": [
        "data1.boxplot(column='Total_day_calls',by='Churn')"
      ],
      "metadata": {
        "id": "doR3eu9KqQto",
        "outputId": "e686554c-2a15-4e07-95a0-4f025172e41a",
        "colab": {
          "base_uri": "https://localhost:8080/",
          "height": 373
        }
      },
      "execution_count": 50,
      "outputs": [
        {
          "output_type": "stream",
          "name": "stderr",
          "text": [
            "/usr/local/lib/python3.7/dist-packages/matplotlib/cbook/__init__.py:1376: VisibleDeprecationWarning: Creating an ndarray from ragged nested sequences (which is a list-or-tuple of lists-or-tuples-or ndarrays with different lengths or shapes) is deprecated. If you meant to do this, you must specify 'dtype=object' when creating the ndarray.\n",
            "  X = np.atleast_1d(X.T if isinstance(X, np.ndarray) else np.asarray(X))\n"
          ]
        },
        {
          "output_type": "execute_result",
          "data": {
            "text/plain": [
              "<matplotlib.axes._subplots.AxesSubplot at 0x7ff3bd43f850>"
            ]
          },
          "metadata": {},
          "execution_count": 50
        },
        {
          "output_type": "display_data",
          "data": {
            "text/plain": [
              "<Figure size 432x288 with 1 Axes>"
            ],
            "image/png": "[encoded data removed]"
          },
          "metadata": {
            "needs_background": "light"
          }
        }
      ]
    },
    {
      "cell_type": "markdown",
      "source": [
        "The Day Min mean is different for both the churn group."
      ],
      "metadata": {
        "id": "3lc8uqpn2W80"
      }
    },
    {
      "cell_type": "code",
      "source": [
        "data1.boxplot(column='Total_eve_calls',by='Churn')"
      ],
      "metadata": {
        "id": "3qg1aBdzqcWf",
        "outputId": "df6a2b07-5265-4e24-8960-dd3da56e7efa",
        "colab": {
          "base_uri": "https://localhost:8080/",
          "height": 373
        }
      },
      "execution_count": 51,
      "outputs": [
        {
          "output_type": "stream",
          "name": "stderr",
          "text": [
            "/usr/local/lib/python3.7/dist-packages/matplotlib/cbook/__init__.py:1376: VisibleDeprecationWarning: Creating an ndarray from ragged nested sequences (which is a list-or-tuple of lists-or-tuples-or ndarrays with different lengths or shapes) is deprecated. If you meant to do this, you must specify 'dtype=object' when creating the ndarray.\n",
            "  X = np.atleast_1d(X.T if isinstance(X, np.ndarray) else np.asarray(X))\n"
          ]
        },
        {
          "output_type": "execute_result",
          "data": {
            "text/plain": [
              "<matplotlib.axes._subplots.AxesSubplot at 0x7ff3bd32d290>"
            ]
          },
          "metadata": {},
          "execution_count": 51
        },
        {
          "output_type": "display_data",
          "data": {
            "text/plain": [
              "<Figure size 432x288 with 1 Axes>"
            ],
            "image/png": "[encoded data removed]"
          },
          "metadata": {
            "needs_background": "light"
          }
        }
      ]
    },
    {
      "cell_type": "markdown",
      "source": [
        "There is a slight amount of difference in mean of Evening mins for both the churn groups. The Box plot also show us the outliers and range of each variable."
      ],
      "metadata": {
        "id": "rsrAYkWt2Z36"
      }
    },
    {
      "cell_type": "code",
      "source": [
        "data1.boxplot(column='Total_night_calls',by='Churn')"
      ],
      "metadata": {
        "id": "tCbioq8UqcvE",
        "outputId": "846b4bf9-a5b1-4823-cd88-de3248bae168",
        "colab": {
          "base_uri": "https://localhost:8080/",
          "height": 373
        }
      },
      "execution_count": 52,
      "outputs": [
        {
          "output_type": "stream",
          "name": "stderr",
          "text": [
            "/usr/local/lib/python3.7/dist-packages/matplotlib/cbook/__init__.py:1376: VisibleDeprecationWarning: Creating an ndarray from ragged nested sequences (which is a list-or-tuple of lists-or-tuples-or ndarrays with different lengths or shapes) is deprecated. If you meant to do this, you must specify 'dtype=object' when creating the ndarray.\n",
            "  X = np.atleast_1d(X.T if isinstance(X, np.ndarray) else np.asarray(X))\n"
          ]
        },
        {
          "output_type": "execute_result",
          "data": {
            "text/plain": [
              "<matplotlib.axes._subplots.AxesSubplot at 0x7ff3bd2e3190>"
            ]
          },
          "metadata": {},
          "execution_count": 52
        },
        {
          "output_type": "display_data",
          "data": {
            "text/plain": [
              "<Figure size 432x288 with 1 Axes>"
            ],
            "image/png": "[encoded data removed]"
          },
          "metadata": {
            "needs_background": "light"
          }
        }
      ]
    },
    {
      "cell_type": "markdown",
      "source": [
        ""
      ],
      "metadata": {
        "id": "r6NMDk2X2ost"
      }
    },
    {
      "cell_type": "code",
      "source": [
        "# Histogram for each variable\n",
        "data1.hist(figsize=(16, 20), bins=50, xlabelsize=8, ylabelsize=8)"
      ],
      "metadata": {
        "id": "_gT6YjawqzVO",
        "outputId": "9eac8e4d-86a9-4b66-91b6-7bcb70252523",
        "colab": {
          "base_uri": "https://localhost:8080/",
          "height": 1000
        }
      },
      "execution_count": 53,
      "outputs": [
        {
          "output_type": "execute_result",
          "data": {
            "text/plain": [
              "array([[<matplotlib.axes._subplots.AxesSubplot object at 0x7ff3bd1d5c90>,\n",
              "        <matplotlib.axes._subplots.AxesSubplot object at 0x7ff3bd1f9e10>,\n",
              "        <matplotlib.axes._subplots.AxesSubplot object at 0x7ff3bd1bc4d0>,\n",
              "        <matplotlib.axes._subplots.AxesSubplot object at 0x7ff3bd172890>],\n",
              "       [<matplotlib.axes._subplots.AxesSubplot object at 0x7ff3bd12ad90>,\n",
              "        <matplotlib.axes._subplots.AxesSubplot object at 0x7ff3bd0ed2d0>,\n",
              "        <matplotlib.axes._subplots.AxesSubplot object at 0x7ff3bd7a46d0>,\n",
              "        <matplotlib.axes._subplots.AxesSubplot object at 0x7ff3bd406d50>],\n",
              "       [<matplotlib.axes._subplots.AxesSubplot object at 0x7ff3bd406890>,\n",
              "        <matplotlib.axes._subplots.AxesSubplot object at 0x7ff3bd2b0950>,\n",
              "        <matplotlib.axes._subplots.AxesSubplot object at 0x7ff3be21d590>,\n",
              "        <matplotlib.axes._subplots.AxesSubplot object at 0x7ff3be1eb650>],\n",
              "       [<matplotlib.axes._subplots.AxesSubplot object at 0x7ff3bd072ed0>,\n",
              "        <matplotlib.axes._subplots.AxesSubplot object at 0x7ff3bd036510>,\n",
              "        <matplotlib.axes._subplots.AxesSubplot object at 0x7ff3bcfecb10>,\n",
              "        <matplotlib.axes._subplots.AxesSubplot object at 0x7ff3bcfb0150>]],\n",
              "      dtype=object)"
            ]
          },
          "metadata": {},
          "execution_count": 53
        },
        {
          "output_type": "display_data",
          "data": {
            "text/plain": [
              "<Figure size 1152x1440 with 16 Axes>"
            ],
            "image/png": "[encoded data removed]"
          },
          "metadata": {
            "needs_background": "light"
          }
        }
      ]
    },
    {
      "cell_type": "markdown",
      "source": [
        "The charge and min variable have similar distribution as they are perfectly correlated."
      ],
      "metadata": {
        "id": "v5mMDLa724fM"
      }
    },
    {
      "cell_type": "code",
      "source": [
        "# International Plan \n",
        "pd.crosstab(data1['Churn'], data1[\"International_plan\"], margins=True)"
      ],
      "metadata": {
        "id": "KQru2pTcrTjY",
        "outputId": "9b33aa69-24b6-4e62-891b-d578cabcc5c3",
        "colab": {
          "base_uri": "https://localhost:8080/",
          "height": 174
        }
      },
      "execution_count": 61,
      "outputs": [
        {
          "output_type": "execute_result",
          "data": {
            "text/plain": [
              "International_plan    No  Yes   All\n",
              "Churn                              \n",
              "False               2664  186  2850\n",
              "True                 346  137   483\n",
              "All                 3010  323  3333"
            ],
            "text/html": [
              "\n",
              "  <div id=\"df-b86271bd-b408-491a-b5a9-afa7d9e37c4c\">\n",
              "    <div class=\"colab-df-container\">\n",
              "      <div>\n",
              "<style scoped>\n",
              "    .dataframe tbody tr th:only-of-type {\n",
              "        vertical-align: middle;\n",
              "    }\n",
              "\n",
              "    .dataframe tbody tr th {\n",
              "        vertical-align: top;\n",
              "    }\n",
              "\n",
              "    .dataframe thead th {\n",
              "        text-align: right;\n",
              "    }\n",
              "</style>\n",
              "<table border=\"1\" class=\"dataframe\">\n",
              "  <thead>\n",
              "    <tr style=\"text-align: right;\">\n",
              "      <th>International_plan</th>\n",
              "      <th>No</th>\n",
              "      <th>Yes</th>\n",
              "      <th>All</th>\n",
              "    </tr>\n",
              "    <tr>\n",
              "      <th>Churn</th>\n",
              "      <th></th>\n",
              "      <th></th>\n",
              "      <th></th>\n",
              "    </tr>\n",
              "  </thead>\n",
              "  <tbody>\n",
              "    <tr>\n",
              "      <th>False</th>\n",
              "      <td>2664</td>\n",
              "      <td>186</td>\n",
              "      <td>2850</td>\n",
              "    </tr>\n",
              "    <tr>\n",
              "      <th>True</th>\n",
              "      <td>346</td>\n",
              "      <td>137</td>\n",
              "      <td>483</td>\n",
              "    </tr>\n",
              "    <tr>\n",
              "      <th>All</th>\n",
              "      <td>3010</td>\n",
              "      <td>323</td>\n",
              "      <td>3333</td>\n",
              "    </tr>\n",
              "  </tbody>\n",
              "</table>\n",
              "</div>\n",
              "      <button class=\"colab-df-convert\" onclick=\"convertToInteractive('df-b86271bd-b408-491a-b5a9-afa7d9e37c4c')\"\n",
              "              title=\"Convert this dataframe to an interactive table.\"\n",
              "              style=\"display:none;\">\n",
              "        \n",
              "  <svg xmlns=\"http://www.w3.org/2000/svg\" height=\"24px\"viewBox=\"0 0 24 24\"\n",
              "       width=\"24px\">\n",
              "    <path d=\"M0 0h24v24H0V0z\" fill=\"none\"/>\n",
              "    <path d=\"M18.56 5.44l.94 2.06.94-2.06 2.06-.94-2.06-.94-.94-2.06-.94 2.06-2.06.94zm-11 1L8.5 8.5l.94-2.06 2.06-.94-2.06-.94L8.5 2.5l-.94 2.06-2.06.94zm10 10l.94 2.06.94-2.06 2.06-.94-2.06-.94-.94-2.06-.94 2.06-2.06.94z\"/><path d=\"M17.41 7.96l-1.37-1.37c-.4-.4-.92-.59-1.43-.59-.52 0-1.04.2-1.43.59L10.3 9.45l-7.72 7.72c-.78.78-.78 2.05 0 2.83L4 21.41c.39.39.9.59 1.41.59.51 0 1.02-.2 1.41-.59l7.78-7.78 2.81-2.81c.8-.78.8-2.07 0-2.86zM5.41 20L4 18.59l7.72-7.72 1.47 1.35L5.41 20z\"/>\n",
              "  </svg>\n",
              "      </button>\n",
              "      \n",
              "  <style>\n",
              "    .colab-df-container {\n",
              "      display:flex;\n",
              "      flex-wrap:wrap;\n",
              "      gap: 12px;\n",
              "    }\n",
              "\n",
              "    .colab-df-convert {\n",
              "      background-color: #E8F0FE;\n",
              "      border: none;\n",
              "      border-radius: 50%;\n",
              "      cursor: pointer;\n",
              "      display: none;\n",
              "      fill: #1967D2;\n",
              "      height: 32px;\n",
              "      padding: 0 0 0 0;\n",
              "      width: 32px;\n",
              "    }\n",
              "\n",
              "    .colab-df-convert:hover {\n",
              "      background-color: #E2EBFA;\n",
              "      box-shadow: 0px 1px 2px rgba(60, 64, 67, 0.3), 0px 1px 3px 1px rgba(60, 64, 67, 0.15);\n",
              "      fill: #174EA6;\n",
              "    }\n",
              "\n",
              "    [theme=dark] .colab-df-convert {\n",
              "      background-color: #3B4455;\n",
              "      fill: #D2E3FC;\n",
              "    }\n",
              "\n",
              "    [theme=dark] .colab-df-convert:hover {\n",
              "      background-color: #434B5C;\n",
              "      box-shadow: 0px 1px 3px 1px rgba(0, 0, 0, 0.15);\n",
              "      filter: drop-shadow(0px 1px 2px rgba(0, 0, 0, 0.3));\n",
              "      fill: #FFFFFF;\n",
              "    }\n",
              "  </style>\n",
              "\n",
              "      <script>\n",
              "        const buttonEl =\n",
              "          document.querySelector('#df-b86271bd-b408-491a-b5a9-afa7d9e37c4c button.colab-df-convert');\n",
              "        buttonEl.style.display =\n",
              "          google.colab.kernel.accessAllowed ? 'block' : 'none';\n",
              "\n",
              "        async function convertToInteractive(key) {\n",
              "          const element = document.querySelector('#df-b86271bd-b408-491a-b5a9-afa7d9e37c4c');\n",
              "          const dataTable =\n",
              "            await google.colab.kernel.invokeFunction('convertToInteractive',\n",
              "                                                     [key], {});\n",
              "          if (!dataTable) return;\n",
              "\n",
              "          const docLinkHtml = 'Like what you see? Visit the ' +\n",
              "            '<a target=\"_blank\" href=https://colab.research.google.com/notebooks/data_table.ipynb>data table notebook</a>'\n",
              "            + ' to learn more about interactive tables.';\n",
              "          element.innerHTML = '';\n",
              "          dataTable['output_type'] = 'display_data';\n",
              "          await google.colab.output.renderOutput(dataTable, element);\n",
              "          const docLink = document.createElement('div');\n",
              "          docLink.innerHTML = docLinkHtml;\n",
              "          element.appendChild(docLink);\n",
              "        }\n",
              "      </script>\n",
              "    </div>\n",
              "  </div>\n",
              "  "
            ]
          },
          "metadata": {},
          "execution_count": 61
        }
      ]
    },
    {
      "cell_type": "markdown",
      "source": [
        "Let’s see how churn rate is related to the International plan variable. We see that, with International Plan, the churn rate is much higher. Clearly, those who have selected the International Plan have a greater chance of leaving the company’s service than do those who do not have the International Plan. Perhaps large and poorly controlled expenses with international calls are very conflict-prone and lead to dissatisfaction among the telecom operator’s customers."
      ],
      "metadata": {
        "id": "TMYpMC6r27Vm"
      }
    },
    {
      "cell_type": "code",
      "source": [
        "# Histogram of International Plan grouped by churn\n",
        "import seaborn as sns\n",
        "plt.rcParams['figure.figsize'] = (8, 6)\n",
        "sns.countplot(x=\"International_plan\", hue='Churn', data=data1);\n"
      ],
      "metadata": {
        "id": "mTyoH_kKwM3O",
        "outputId": "4083023b-4730-4eeb-8122-39b5d2246ef6",
        "colab": {
          "base_uri": "https://localhost:8080/",
          "height": 389
        }
      },
      "execution_count": 62,
      "outputs": [
        {
          "output_type": "display_data",
          "data": {
            "text/plain": [
              "<Figure size 576x432 with 1 Axes>"
            ],
            "image/png": "[encoded data removed]"
          },
          "metadata": {
            "needs_background": "light"
          }
        }
      ]
    },
    {
      "cell_type": "code",
      "source": [
        "# Customer Service Calls \n",
        "pd.crosstab(data1['Churn'], data1[\"Customer_service_calls\"], margins=True)"
      ],
      "metadata": {
        "colab": {
          "base_uri": "https://localhost:8080/",
          "height": 174
        },
        "id": "vlIq1VNPyFx5",
        "outputId": "85b3fcdd-6c52-4485-98ea-c6186743887e"
      },
      "execution_count": 63,
      "outputs": [
        {
          "output_type": "execute_result",
          "data": {
            "text/plain": [
              "Customer_service_calls    0     1    2    3    4   5   6  7  8  9   All\n",
              "Churn                                                                  \n",
              "False                   605  1059  672  385   90  26   8  4  1  0  2850\n",
              "True                     92   122   87   44   76  40  14  5  1  2   483\n",
              "All                     697  1181  759  429  166  66  22  9  2  2  3333"
            ],
            "text/html": [
              "\n",
              "  <div id=\"df-96e01593-cab2-42d1-abee-355f99959339\">\n",
              "    <div class=\"colab-df-container\">\n",
              "      <div>\n",
              "<style scoped>\n",
              "    .dataframe tbody tr th:only-of-type {\n",
              "        vertical-align: middle;\n",
              "    }\n",
              "\n",
              "    .dataframe tbody tr th {\n",
              "        vertical-align: top;\n",
              "    }\n",
              "\n",
              "    .dataframe thead th {\n",
              "        text-align: right;\n",
              "    }\n",
              "</style>\n",
              "<table border=\"1\" class=\"dataframe\">\n",
              "  <thead>\n",
              "    <tr style=\"text-align: right;\">\n",
              "      <th>Customer_service_calls</th>\n",
              "      <th>0</th>\n",
              "      <th>1</th>\n",
              "      <th>2</th>\n",
              "      <th>3</th>\n",
              "      <th>4</th>\n",
              "      <th>5</th>\n",
              "      <th>6</th>\n",
              "      <th>7</th>\n",
              "      <th>8</th>\n",
              "      <th>9</th>\n",
              "      <th>All</th>\n",
              "    </tr>\n",
              "    <tr>\n",
              "      <th>Churn</th>\n",
              "      <th></th>\n",
              "      <th></th>\n",
              "      <th></th>\n",
              "      <th></th>\n",
              "      <th></th>\n",
              "      <th></th>\n",
              "      <th></th>\n",
              "      <th></th>\n",
              "      <th></th>\n",
              "      <th></th>\n",
              "      <th></th>\n",
              "    </tr>\n",
              "  </thead>\n",
              "  <tbody>\n",
              "    <tr>\n",
              "      <th>False</th>\n",
              "      <td>605</td>\n",
              "      <td>1059</td>\n",
              "      <td>672</td>\n",
              "      <td>385</td>\n",
              "      <td>90</td>\n",
              "      <td>26</td>\n",
              "      <td>8</td>\n",
              "      <td>4</td>\n",
              "      <td>1</td>\n",
              "      <td>0</td>\n",
              "      <td>2850</td>\n",
              "    </tr>\n",
              "    <tr>\n",
              "      <th>True</th>\n",
              "      <td>92</td>\n",
              "      <td>122</td>\n",
              "      <td>87</td>\n",
              "      <td>44</td>\n",
              "      <td>76</td>\n",
              "      <td>40</td>\n",
              "      <td>14</td>\n",
              "      <td>5</td>\n",
              "      <td>1</td>\n",
              "      <td>2</td>\n",
              "      <td>483</td>\n",
              "    </tr>\n",
              "    <tr>\n",
              "      <th>All</th>\n",
              "      <td>697</td>\n",
              "      <td>1181</td>\n",
              "      <td>759</td>\n",
              "      <td>429</td>\n",
              "      <td>166</td>\n",
              "      <td>66</td>\n",
              "      <td>22</td>\n",
              "      <td>9</td>\n",
              "      <td>2</td>\n",
              "      <td>2</td>\n",
              "      <td>3333</td>\n",
              "    </tr>\n",
              "  </tbody>\n",
              "</table>\n",
              "</div>\n",
              "      <button class=\"colab-df-convert\" onclick=\"convertToInteractive('df-96e01593-cab2-42d1-abee-355f99959339')\"\n",
              "              title=\"Convert this dataframe to an interactive table.\"\n",
              "              style=\"display:none;\">\n",
              "        \n",
              "  <svg xmlns=\"http://www.w3.org/2000/svg\" height=\"24px\"viewBox=\"0 0 24 24\"\n",
              "       width=\"24px\">\n",
              "    <path d=\"M0 0h24v24H0V0z\" fill=\"none\"/>\n",
              "    <path d=\"M18.56 5.44l.94 2.06.94-2.06 2.06-.94-2.06-.94-.94-2.06-.94 2.06-2.06.94zm-11 1L8.5 8.5l.94-2.06 2.06-.94-2.06-.94L8.5 2.5l-.94 2.06-2.06.94zm10 10l.94 2.06.94-2.06 2.06-.94-2.06-.94-.94-2.06-.94 2.06-2.06.94z\"/><path d=\"M17.41 7.96l-1.37-1.37c-.4-.4-.92-.59-1.43-.59-.52 0-1.04.2-1.43.59L10.3 9.45l-7.72 7.72c-.78.78-.78 2.05 0 2.83L4 21.41c.39.39.9.59 1.41.59.51 0 1.02-.2 1.41-.59l7.78-7.78 2.81-2.81c.8-.78.8-2.07 0-2.86zM5.41 20L4 18.59l7.72-7.72 1.47 1.35L5.41 20z\"/>\n",
              "  </svg>\n",
              "      </button>\n",
              "      \n",
              "  <style>\n",
              "    .colab-df-container {\n",
              "      display:flex;\n",
              "      flex-wrap:wrap;\n",
              "      gap: 12px;\n",
              "    }\n",
              "\n",
              "    .colab-df-convert {\n",
              "      background-color: #E8F0FE;\n",
              "      border: none;\n",
              "      border-radius: 50%;\n",
              "      cursor: pointer;\n",
              "      display: none;\n",
              "      fill: #1967D2;\n",
              "      height: 32px;\n",
              "      padding: 0 0 0 0;\n",
              "      width: 32px;\n",
              "    }\n",
              "\n",
              "    .colab-df-convert:hover {\n",
              "      background-color: #E2EBFA;\n",
              "      box-shadow: 0px 1px 2px rgba(60, 64, 67, 0.3), 0px 1px 3px 1px rgba(60, 64, 67, 0.15);\n",
              "      fill: #174EA6;\n",
              "    }\n",
              "\n",
              "    [theme=dark] .colab-df-convert {\n",
              "      background-color: #3B4455;\n",
              "      fill: #D2E3FC;\n",
              "    }\n",
              "\n",
              "    [theme=dark] .colab-df-convert:hover {\n",
              "      background-color: #434B5C;\n",
              "      box-shadow: 0px 1px 3px 1px rgba(0, 0, 0, 0.15);\n",
              "      filter: drop-shadow(0px 1px 2px rgba(0, 0, 0, 0.3));\n",
              "      fill: #FFFFFF;\n",
              "    }\n",
              "  </style>\n",
              "\n",
              "      <script>\n",
              "        const buttonEl =\n",
              "          document.querySelector('#df-96e01593-cab2-42d1-abee-355f99959339 button.colab-df-convert');\n",
              "        buttonEl.style.display =\n",
              "          google.colab.kernel.accessAllowed ? 'block' : 'none';\n",
              "\n",
              "        async function convertToInteractive(key) {\n",
              "          const element = document.querySelector('#df-96e01593-cab2-42d1-abee-355f99959339');\n",
              "          const dataTable =\n",
              "            await google.colab.kernel.invokeFunction('convertToInteractive',\n",
              "                                                     [key], {});\n",
              "          if (!dataTable) return;\n",
              "\n",
              "          const docLinkHtml = 'Like what you see? Visit the ' +\n",
              "            '<a target=\"_blank\" href=https://colab.research.google.com/notebooks/data_table.ipynb>data table notebook</a>'\n",
              "            + ' to learn more about interactive tables.';\n",
              "          element.innerHTML = '';\n",
              "          dataTable['output_type'] = 'display_data';\n",
              "          await google.colab.output.renderOutput(dataTable, element);\n",
              "          const docLink = document.createElement('div');\n",
              "          docLink.innerHTML = docLinkHtml;\n",
              "          element.appendChild(docLink);\n",
              "        }\n",
              "      </script>\n",
              "    </div>\n",
              "  </div>\n",
              "  "
            ]
          },
          "metadata": {},
          "execution_count": 63
        }
      ]
    },
    {
      "cell_type": "code",
      "source": [
        "# Histogram of Customer Serice calls grouped by churn  \n",
        "plt.rcParams['figure.figsize'] = (8, 6)\n",
        "sns.countplot(x=\"Customer_service_calls\", hue='Churn', data=data1);"
      ],
      "metadata": {
        "id": "D4BRwXvyygtk",
        "outputId": "b775e403-b3f9-4f27-b3a5-98b5cfbb886a",
        "colab": {
          "base_uri": "https://localhost:8080/",
          "height": 389
        }
      },
      "execution_count": 64,
      "outputs": [
        {
          "output_type": "display_data",
          "data": {
            "text/plain": [
              "<Figure size 576x432 with 1 Axes>"
            ],
            "image/png": "[encoded data removed]"
          },
          "metadata": {
            "needs_background": "light"
          }
        }
      ]
    },
    {
      "cell_type": "markdown",
      "source": [
        "The picture clearly states that the churn rate strongly increases starting from 4 calls to the service center. Customers who have called customer service three or fewer times have a markedly lower churn rate than that of customers who have called customer service four or more times."
      ],
      "metadata": {
        "id": "6ok0xG963IpC"
      }
    },
    {
      "cell_type": "code",
      "source": [
        "pd.crosstab(data1['Churn'], data1[\"Total_day_minutes\"], margins=True)"
      ],
      "metadata": {
        "id": "kx7SVnnS3Qdk",
        "outputId": "8e554a8b-13e2-47a0-fe1c-9eab170bebef",
        "colab": {
          "base_uri": "https://localhost:8080/",
          "height": 268
        }
      },
      "execution_count": 65,
      "outputs": [
        {
          "output_type": "execute_result",
          "data": {
            "text/plain": [
              "Total_day_minutes  0.0  2.6  7.8  7.9  12.5  17.6  18.9  19.5  25.9  27.0  \\\n",
              "Churn                                                                       \n",
              "False                1    1    1    1     1     1     1     1     1     1   \n",
              "True                 1    0    0    0     0     0     0     0     0     0   \n",
              "All                  2    1    1    1     1     1     1     1     1     1   \n",
              "\n",
              "Total_day_minutes  ...  328.1  329.8  332.9  334.3  335.5  337.4  345.3  \\\n",
              "Churn              ...                                                    \n",
              "False              ...      0      0      0      0      0      0      0   \n",
              "True               ...      1      1      1      1      1      1      1   \n",
              "All                ...      1      1      1      1      1      1      1   \n",
              "\n",
              "Total_day_minutes  346.8  350.8   All  \n",
              "Churn                                  \n",
              "False                  0      0  2850  \n",
              "True                   1      1   483  \n",
              "All                    1      1  3333  \n",
              "\n",
              "[3 rows x 1668 columns]"
            ],
            "text/html": [
              "\n",
              "  <div id=\"df-0bef6609-5bc1-403a-ac16-416a35f8b669\">\n",
              "    <div class=\"colab-df-container\">\n",
              "      <div>\n",
              "<style scoped>\n",
              "    .dataframe tbody tr th:only-of-type {\n",
              "        vertical-align: middle;\n",
              "    }\n",
              "\n",
              "    .dataframe tbody tr th {\n",
              "        vertical-align: top;\n",
              "    }\n",
              "\n",
              "    .dataframe thead th {\n",
              "        text-align: right;\n",
              "    }\n",
              "</style>\n",
              "<table border=\"1\" class=\"dataframe\">\n",
              "  <thead>\n",
              "    <tr style=\"text-align: right;\">\n",
              "      <th>Total_day_minutes</th>\n",
              "      <th>0.0</th>\n",
              "      <th>2.6</th>\n",
              "      <th>7.8</th>\n",
              "      <th>7.9</th>\n",
              "      <th>12.5</th>\n",
              "      <th>17.6</th>\n",
              "      <th>18.9</th>\n",
              "      <th>19.5</th>\n",
              "      <th>25.9</th>\n",
              "      <th>27.0</th>\n",
              "      <th>...</th>\n",
              "      <th>328.1</th>\n",
              "      <th>329.8</th>\n",
              "      <th>332.9</th>\n",
              "      <th>334.3</th>\n",
              "      <th>335.5</th>\n",
              "      <th>337.4</th>\n",
              "      <th>345.3</th>\n",
              "      <th>346.8</th>\n",
              "      <th>350.8</th>\n",
              "      <th>All</th>\n",
              "    </tr>\n",
              "    <tr>\n",
              "      <th>Churn</th>\n",
              "      <th></th>\n",
              "      <th></th>\n",
              "      <th></th>\n",
              "      <th></th>\n",
              "      <th></th>\n",
              "      <th></th>\n",
              "      <th></th>\n",
              "      <th></th>\n",
              "      <th></th>\n",
              "      <th></th>\n",
              "      <th></th>\n",
              "      <th></th>\n",
              "      <th></th>\n",
              "      <th></th>\n",
              "      <th></th>\n",
              "      <th></th>\n",
              "      <th></th>\n",
              "      <th></th>\n",
              "      <th></th>\n",
              "      <th></th>\n",
              "      <th></th>\n",
              "    </tr>\n",
              "  </thead>\n",
              "  <tbody>\n",
              "    <tr>\n",
              "      <th>False</th>\n",
              "      <td>1</td>\n",
              "      <td>1</td>\n",
              "      <td>1</td>\n",
              "      <td>1</td>\n",
              "      <td>1</td>\n",
              "      <td>1</td>\n",
              "      <td>1</td>\n",
              "      <td>1</td>\n",
              "      <td>1</td>\n",
              "      <td>1</td>\n",
              "      <td>...</td>\n",
              "      <td>0</td>\n",
              "      <td>0</td>\n",
              "      <td>0</td>\n",
              "      <td>0</td>\n",
              "      <td>0</td>\n",
              "      <td>0</td>\n",
              "      <td>0</td>\n",
              "      <td>0</td>\n",
              "      <td>0</td>\n",
              "      <td>2850</td>\n",
              "    </tr>\n",
              "    <tr>\n",
              "      <th>True</th>\n",
              "      <td>1</td>\n",
              "      <td>0</td>\n",
              "      <td>0</td>\n",
              "      <td>0</td>\n",
              "      <td>0</td>\n",
              "      <td>0</td>\n",
              "      <td>0</td>\n",
              "      <td>0</td>\n",
              "      <td>0</td>\n",
              "      <td>0</td>\n",
              "      <td>...</td>\n",
              "      <td>1</td>\n",
              "      <td>1</td>\n",
              "      <td>1</td>\n",
              "      <td>1</td>\n",
              "      <td>1</td>\n",
              "      <td>1</td>\n",
              "      <td>1</td>\n",
              "      <td>1</td>\n",
              "      <td>1</td>\n",
              "      <td>483</td>\n",
              "    </tr>\n",
              "    <tr>\n",
              "      <th>All</th>\n",
              "      <td>2</td>\n",
              "      <td>1</td>\n",
              "      <td>1</td>\n",
              "      <td>1</td>\n",
              "      <td>1</td>\n",
              "      <td>1</td>\n",
              "      <td>1</td>\n",
              "      <td>1</td>\n",
              "      <td>1</td>\n",
              "      <td>1</td>\n",
              "      <td>...</td>\n",
              "      <td>1</td>\n",
              "      <td>1</td>\n",
              "      <td>1</td>\n",
              "      <td>1</td>\n",
              "      <td>1</td>\n",
              "      <td>1</td>\n",
              "      <td>1</td>\n",
              "      <td>1</td>\n",
              "      <td>1</td>\n",
              "      <td>3333</td>\n",
              "    </tr>\n",
              "  </tbody>\n",
              "</table>\n",
              "<p>3 rows × 1668 columns</p>\n",
              "</div>\n",
              "      <button class=\"colab-df-convert\" onclick=\"convertToInteractive('df-0bef6609-5bc1-403a-ac16-416a35f8b669')\"\n",
              "              title=\"Convert this dataframe to an interactive table.\"\n",
              "              style=\"display:none;\">\n",
              "        \n",
              "  <svg xmlns=\"http://www.w3.org/2000/svg\" height=\"24px\"viewBox=\"0 0 24 24\"\n",
              "       width=\"24px\">\n",
              "    <path d=\"M0 0h24v24H0V0z\" fill=\"none\"/>\n",
              "    <path d=\"M18.56 5.44l.94 2.06.94-2.06 2.06-.94-2.06-.94-.94-2.06-.94 2.06-2.06.94zm-11 1L8.5 8.5l.94-2.06 2.06-.94-2.06-.94L8.5 2.5l-.94 2.06-2.06.94zm10 10l.94 2.06.94-2.06 2.06-.94-2.06-.94-.94-2.06-.94 2.06-2.06.94z\"/><path d=\"M17.41 7.96l-1.37-1.37c-.4-.4-.92-.59-1.43-.59-.52 0-1.04.2-1.43.59L10.3 9.45l-7.72 7.72c-.78.78-.78 2.05 0 2.83L4 21.41c.39.39.9.59 1.41.59.51 0 1.02-.2 1.41-.59l7.78-7.78 2.81-2.81c.8-.78.8-2.07 0-2.86zM5.41 20L4 18.59l7.72-7.72 1.47 1.35L5.41 20z\"/>\n",
              "  </svg>\n",
              "      </button>\n",
              "      \n",
              "  <style>\n",
              "    .colab-df-container {\n",
              "      display:flex;\n",
              "      flex-wrap:wrap;\n",
              "      gap: 12px;\n",
              "    }\n",
              "\n",
              "    .colab-df-convert {\n",
              "      background-color: #E8F0FE;\n",
              "      border: none;\n",
              "      border-radius: 50%;\n",
              "      cursor: pointer;\n",
              "      display: none;\n",
              "      fill: #1967D2;\n",
              "      height: 32px;\n",
              "      padding: 0 0 0 0;\n",
              "      width: 32px;\n",
              "    }\n",
              "\n",
              "    .colab-df-convert:hover {\n",
              "      background-color: #E2EBFA;\n",
              "      box-shadow: 0px 1px 2px rgba(60, 64, 67, 0.3), 0px 1px 3px 1px rgba(60, 64, 67, 0.15);\n",
              "      fill: #174EA6;\n",
              "    }\n",
              "\n",
              "    [theme=dark] .colab-df-convert {\n",
              "      background-color: #3B4455;\n",
              "      fill: #D2E3FC;\n",
              "    }\n",
              "\n",
              "    [theme=dark] .colab-df-convert:hover {\n",
              "      background-color: #434B5C;\n",
              "      box-shadow: 0px 1px 3px 1px rgba(0, 0, 0, 0.15);\n",
              "      filter: drop-shadow(0px 1px 2px rgba(0, 0, 0, 0.3));\n",
              "      fill: #FFFFFF;\n",
              "    }\n",
              "  </style>\n",
              "\n",
              "      <script>\n",
              "        const buttonEl =\n",
              "          document.querySelector('#df-0bef6609-5bc1-403a-ac16-416a35f8b669 button.colab-df-convert');\n",
              "        buttonEl.style.display =\n",
              "          google.colab.kernel.accessAllowed ? 'block' : 'none';\n",
              "\n",
              "        async function convertToInteractive(key) {\n",
              "          const element = document.querySelector('#df-0bef6609-5bc1-403a-ac16-416a35f8b669');\n",
              "          const dataTable =\n",
              "            await google.colab.kernel.invokeFunction('convertToInteractive',\n",
              "                                                     [key], {});\n",
              "          if (!dataTable) return;\n",
              "\n",
              "          const docLinkHtml = 'Like what you see? Visit the ' +\n",
              "            '<a target=\"_blank\" href=https://colab.research.google.com/notebooks/data_table.ipynb>data table notebook</a>'\n",
              "            + ' to learn more about interactive tables.';\n",
              "          element.innerHTML = '';\n",
              "          dataTable['output_type'] = 'display_data';\n",
              "          await google.colab.output.renderOutput(dataTable, element);\n",
              "          const docLink = document.createElement('div');\n",
              "          docLink.innerHTML = docLinkHtml;\n",
              "          element.appendChild(docLink);\n",
              "        }\n",
              "      </script>\n",
              "    </div>\n",
              "  </div>\n",
              "  "
            ]
          },
          "metadata": {},
          "execution_count": 65
        }
      ]
    },
    {
      "cell_type": "code",
      "source": [
        "plt.rcParams['figure.figsize'] = (8, 6)\n",
        "sns.countplot(x=\"Total_day_minutes\", hue='Churn', data=data1);"
      ],
      "metadata": {
        "id": "iTVRfut53xtW",
        "outputId": "37f172d6-7be5-40b6-c8c3-72e507818626",
        "colab": {
          "base_uri": "https://localhost:8080/",
          "height": 389
        }
      },
      "execution_count": 66,
      "outputs": [
        {
          "output_type": "display_data",
          "data": {
            "text/plain": [
              "<Figure size 576x432 with 1 Axes>"
            ],
            "image/png": "[encoded data removed]"
          },
          "metadata": {
            "needs_background": "light"
          }
        }
      ]
    },
    {
      "cell_type": "markdown",
      "source": [
        "The customers with high day mins have higher churn rate. Same goes for the customers with high Evening mins."
      ],
      "metadata": {
        "id": "9djHaiY24GAQ"
      }
    },
    {
      "cell_type": "markdown",
      "source": [
        "# INSIGHTS\n",
        "Let us consider some of the insights we have gained into the churn data set through the use of exploratory data analysis.\n",
        "\n",
        "\n",
        "*   The four charge fields are linear functions of the minute fields.\n",
        "*   The area code field and/or the state field are anomalous, and can be omitted.\n",
        "The correlations among the remaining predictor variables are weak, allowing us to retain them all for any data mining model.\n",
        "\n",
        "Insights with respect to churn:\n",
        "\n",
        "\n",
        "\n",
        "*   Customers with the International Plan tend to churn more frequently.\n",
        "*   Customers with four or more customer service calls churn more than four times as often as do the other customers.\n",
        "* Customers with high day minutes and evening minutes tend to churn at a higher rate than do the other customers.\n",
        "There is no obvious association of churn with the variables day calls, evening calls, night calls, international calls, night minutes, international minutes, account length, or voice mail messages.\n",
        "\n"
      ],
      "metadata": {
        "id": "ctS_gZXi4P7N"
      }
    }
  ]
}